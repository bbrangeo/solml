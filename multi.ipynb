{
 "cells": [
  {
   "cell_type": "code",
   "execution_count": 22,
   "metadata": {
    "collapsed": false
   },
   "outputs": [],
   "source": [
    "import numpy as np\n",
    "import math\n",
    "import sklearn.linear_model\n",
    "import sklearn.metrics\n",
    "\n",
    "import time\n",
    "\n",
    "from matplotlib import pyplot as plt\n",
    "%matplotlib inline\n",
    "\n",
    "import load\n",
    "import cnn"
   ]
  },
  {
   "cell_type": "code",
   "execution_count": 3,
   "metadata": {
    "collapsed": true
   },
   "outputs": [],
   "source": [
    "train_ids, val_ids, test_ids, train_labels, val_labels, test_labels = load.get_sets()"
   ]
  },
  {
   "cell_type": "code",
   "execution_count": 4,
   "metadata": {
    "collapsed": true
   },
   "outputs": [],
   "source": [
    "cnn_train = cnn.get_cnn_features(train_ids)\n",
    "cnn_val = cnn.get_cnn_features(val_ids)\n",
    "cnn_test = cnn.get_cnn_features(test_ids)"
   ]
  },
  {
   "cell_type": "code",
   "execution_count": 5,
   "metadata": {
    "collapsed": true
   },
   "outputs": [],
   "source": [
    "class_weight=None # or 'balanced'"
   ]
  },
  {
   "cell_type": "markdown",
   "metadata": {},
   "source": [
    "## CNN"
   ]
  },
  {
   "cell_type": "code",
   "execution_count": 4,
   "metadata": {
    "collapsed": false
   },
   "outputs": [
    {
     "name": "stdout",
     "output_type": "stream",
     "text": [
      "LR took 3.400884 seconds.\n",
      "LR took 5.516677 seconds.\n",
      "LR took 6.415585 seconds.\n",
      "LR took 9.939948 seconds.\n",
      "LR took 16.784987 seconds.\n",
      "LR took 32.170354 seconds.\n",
      "LR took 70.057452 seconds.\n",
      "LR took 144.294972 seconds.\n",
      "LR took 175.825194 seconds.\n",
      "LR took 178.448460 seconds.\n",
      "LR took 184.788500 seconds.\n",
      "LR took 191.470629 seconds.\n",
      "LR took 185.888712 seconds.\n",
      "LR took 191.946352 seconds.\n",
      "LR took 175.684194 seconds.\n",
      "LR took 180.971260 seconds.\n",
      "LR took 198.568766 seconds.\n",
      "LR took 195.690111 seconds.\n",
      "LR took 189.387441 seconds.\n",
      "LR took 190.308823 seconds.\n"
     ]
    }
   ],
   "source": [
    "n_C = 20\n",
    "C_list = np.logspace(-10, 10, n_C)\n",
    "errors = np.zeros(n_C)\n",
    "for i, C in enumerate(C_list):\n",
    "    model = sklearn.linear_model.LogisticRegression(penalty='l2', C=C, class_weight=class_weight)\n",
    "    t = time.time()\n",
    "    model.fit(cnn_train, train_labels)\n",
    "    print(\"LR took %f seconds.\"%(time.time()-t))\n",
    "    predictions = model.predict(cnn_val)\n",
    "    errors[i] = (val_labels!=predictions).sum()/len(val_labels)"
   ]
  },
  {
   "cell_type": "code",
   "execution_count": 5,
   "metadata": {
    "collapsed": false
   },
   "outputs": [
    {
     "data": {
      "image/png": "[encoded data removed]",
      "text/plain": [
       "<matplotlib.figure.Figure at 0x7fd81d16dc50>"
      ]
     },
     "metadata": {},
     "output_type": "display_data"
    }
   ],
   "source": [
    "plt.plot(C_list, errors)\n",
    "plt.xscale('log')"
   ]
  },
  {
   "cell_type": "code",
   "execution_count": 11,
   "metadata": {
    "collapsed": false
   },
   "outputs": [
    {
     "name": "stdout",
     "output_type": "stream",
     "text": [
      "optimal C : 0.000018\n",
      "LR took 33.853372 seconds.\n"
     ]
    }
   ],
   "source": [
    "#i_opt = np.argmin(errors)\n",
    "C_opt = 0.000018#C_list[i_opt]\n",
    "print('optimal C : %f'%C_opt)\n",
    "model = sklearn.linear_model.LogisticRegression(penalty='l2', C=C_opt, class_weight=class_weight)\n",
    "t = time.time()\n",
    "model.fit(cnn_train, train_labels)\n",
    "print(\"LR took %f seconds.\"%(time.time()-t))\n",
    "predictions = model.predict(cnn_test)\n",
    "err = (test_labels!=predictions).sum()/len(test_labels)"
   ]
  },
  {
   "cell_type": "code",
   "execution_count": 12,
   "metadata": {
    "collapsed": false
   },
   "outputs": [
    {
     "data": {
      "text/plain": [
       "0.21041666666666667"
      ]
     },
     "execution_count": 12,
     "metadata": {},
     "output_type": "execute_result"
    }
   ],
   "source": [
    "err"
   ]
  },
  {
   "cell_type": "code",
   "execution_count": 13,
   "metadata": {
    "collapsed": true
   },
   "outputs": [],
   "source": [
    "cnn_proba_val = model.predict_proba(cnn_val)[:,:-1]\n",
    "cnn_proba_test = model.predict_proba(cnn_test)[:,:-1]"
   ]
  },
  {
   "cell_type": "markdown",
   "metadata": {},
   "source": [
    "## LR"
   ]
  },
  {
   "cell_type": "code",
   "execution_count": 14,
   "metadata": {
    "collapsed": true
   },
   "outputs": [],
   "source": [
    "l = 6\n",
    "color = False\n",
    "train_reduc, val_reduc, test_reduc = load.load_all_data(train_ids, val_ids, test_ids, l, color)"
   ]
  },
  {
   "cell_type": "code",
   "execution_count": 15,
   "metadata": {
    "collapsed": false
   },
   "outputs": [
    {
     "data": {
      "text/plain": [
       "0.39966624947851481"
      ]
     },
     "execution_count": 15,
     "metadata": {},
     "output_type": "execute_result"
    }
   ],
   "source": [
    "model = sklearn.linear_model.LogisticRegression(penalty='l2', C=1e10, class_weight=class_weight)\n",
    "model.fit(train_reduc, train_labels)\n",
    "predictions = model.predict(val_reduc)\n",
    "error = (val_labels!=predictions).sum()/len(val_labels)\n",
    "error"
   ]
  },
  {
   "cell_type": "code",
   "execution_count": 16,
   "metadata": {
    "collapsed": true
   },
   "outputs": [],
   "source": [
    "reduc_proba_val = model.predict_proba(val_reduc)[:,:-1]\n",
    "reduc_proba_test = model.predict_proba(test_reduc)[:,:-1]"
   ]
  },
  {
   "cell_type": "code",
   "execution_count": 17,
   "metadata": {
    "collapsed": false
   },
   "outputs": [],
   "source": [
    "val_mix = np.concatenate([cnn_proba_val, reduc_proba_val], axis=1)\n",
    "test_mix = np.concatenate([cnn_proba_test, reduc_proba_test], axis=1)"
   ]
  },
  {
   "cell_type": "code",
   "execution_count": 18,
   "metadata": {
    "collapsed": false
   },
   "outputs": [
    {
     "data": {
      "text/plain": [
       "0.19875000000000001"
      ]
     },
     "execution_count": 18,
     "metadata": {},
     "output_type": "execute_result"
    }
   ],
   "source": [
    "model = sklearn.linear_model.LogisticRegression(penalty='l2', C=1e10, class_weight=class_weight)\n",
    "model.fit(val_mix, val_labels)\n",
    "predictions = model.predict(test_mix)\n",
    "error = (test_labels!=predictions).sum()/len(test_labels)\n",
    "error"
   ]
  },
  {
   "cell_type": "code",
   "execution_count": 19,
   "metadata": {
    "collapsed": true
   },
   "outputs": [],
   "source": [
    "probas = model.predict_proba(test_mix)"
   ]
  },
  {
   "cell_type": "markdown",
   "metadata": {},
   "source": [
    "## Confusion matrix"
   ]
  },
  {
   "cell_type": "code",
   "execution_count": 23,
   "metadata": {
    "collapsed": false
   },
   "outputs": [
    {
     "data": {
      "text/plain": [
       "array([[957,  22,  10,  51],\n",
       "       [ 26, 426,  10,  69],\n",
       "       [ 11,  20, 208,  23],\n",
       "       [126,  86,  23, 332]])"
      ]
     },
     "execution_count": 23,
     "metadata": {},
     "output_type": "execute_result"
    }
   ],
   "source": [
    "sklearn.metrics.confusion_matrix(test_labels, predictions)"
   ]
  },
  {
   "cell_type": "markdown",
   "metadata": {},
   "source": [
    "## Confidence"
   ]
  },
  {
   "cell_type": "code",
   "execution_count": 39,
   "metadata": {
    "collapsed": true
   },
   "outputs": [],
   "source": [
    "confidence = np.max(probas, axis=1)"
   ]
  },
  {
   "cell_type": "code",
   "execution_count": 40,
   "metadata": {
    "collapsed": false
   },
   "outputs": [
    {
     "data": {
      "text/plain": [
       "(array([  3.,   4.,   0.,   0.,   1.,   1.,   3.,   2.,   1.,   5.,   2.,\n",
       "          2.,   3.,   3.,   6.,   3.,   5.,   6.,   8.,   4.,  15.,   6.,\n",
       "         14.,  15.,  14.,  12.,  13.,  11.,  15.,   7.,  20.,   7.,  12.,\n",
       "         18.,  14.,  12.,  12.,  15.,  17.,  18.,  16.,  16.,  11.,  19.,\n",
       "         19.,  11.,  14.,  12.,  19.,  14.,  17.,  13.,  16.,  19.,  15.,\n",
       "         21.,  20.,  17.,  16.,  16.,  17.,  18.,  26.,  17.,  19.,  27.,\n",
       "         15.,  19.,  32.,  24.,  28.,  24.,  31.,  36.,  25.,  28.,  35.,\n",
       "         27.,  42.,  30.,  35.,  39.,  57.,  44.,  40.,  65.,  57.,  49.,\n",
       "         59.,  51.,  77.,  70.,  83.,  90.,  91.,  97.,  74.,  71.,  54.,\n",
       "         27.]),\n",
       " array([ 0.34691441,  0.35302819,  0.35914196,  0.36525574,  0.37136951,\n",
       "         0.37748329,  0.38359707,  0.38971084,  0.39582462,  0.40193839,\n",
       "         0.40805217,  0.41416594,  0.42027972,  0.4263935 ,  0.43250727,\n",
       "         0.43862105,  0.44473482,  0.4508486 ,  0.45696237,  0.46307615,\n",
       "         0.46918992,  0.4753037 ,  0.48141748,  0.48753125,  0.49364503,\n",
       "         0.4997588 ,  0.50587258,  0.51198635,  0.51810013,  0.5242139 ,\n",
       "         0.53032768,  0.53644146,  0.54255523,  0.54866901,  0.55478278,\n",
       "         0.56089656,  0.56701033,  0.57312411,  0.57923789,  0.58535166,\n",
       "         0.59146544,  0.59757921,  0.60369299,  0.60980676,  0.61592054,\n",
       "         0.62203431,  0.62814809,  0.63426187,  0.64037564,  0.64648942,\n",
       "         0.65260319,  0.65871697,  0.66483074,  0.67094452,  0.67705829,\n",
       "         0.68317207,  0.68928585,  0.69539962,  0.7015134 ,  0.70762717,\n",
       "         0.71374095,  0.71985472,  0.7259685 ,  0.73208228,  0.73819605,\n",
       "         0.74430983,  0.7504236 ,  0.75653738,  0.76265115,  0.76876493,\n",
       "         0.7748787 ,  0.78099248,  0.78710626,  0.79322003,  0.79933381,\n",
       "         0.80544758,  0.81156136,  0.81767513,  0.82378891,  0.82990268,\n",
       "         0.83601646,  0.84213024,  0.84824401,  0.85435779,  0.86047156,\n",
       "         0.86658534,  0.87269911,  0.87881289,  0.88492667,  0.89104044,\n",
       "         0.89715422,  0.90326799,  0.90938177,  0.91549554,  0.92160932,\n",
       "         0.92772309,  0.93383687,  0.93995065,  0.94606442,  0.9521782 ,\n",
       "         0.95829197]),\n",
       " <a list of 100 Patch objects>)"
      ]
     },
     "execution_count": 40,
     "metadata": {},
     "output_type": "execute_result"
    },
    {
     "data": {
      "image/png": "[encoded data removed]",
      "text/plain": [
       "<matplotlib.figure.Figure at 0x7fd7fe12c748>"
      ]
     },
     "metadata": {},
     "output_type": "display_data"
    }
   ],
   "source": [
    "plt.hist(confidence, bins=100)"
   ]
  },
  {
   "cell_type": "code",
   "execution_count": 41,
   "metadata": {
    "collapsed": false
   },
   "outputs": [],
   "source": [
    "N = len(confidence)\n",
    "confidence_order = np.argsort(-confidence)\n",
    "sorted_error = (predictions[confidence_order]!=test_labels[confidence_order])\n",
    "nb_errors = np.cumsum(sorted_error)\n",
    "error_rate = nb_errors/np.arange(N)"
   ]
  },
  {
   "cell_type": "code",
   "execution_count": 42,
   "metadata": {
    "collapsed": false
   },
   "outputs": [
    {
     "data": {
      "text/plain": [
       "<matplotlib.text.Text at 0x7fd7fde5f940>"
      ]
     },
     "execution_count": 42,
     "metadata": {},
     "output_type": "execute_result"
    },
    {
     "data": {
      "image/png": "[encoded data removed]",
      "text/plain": [
       "<matplotlib.figure.Figure at 0x7fd7fdee2b00>"
      ]
     },
     "metadata": {},
     "output_type": "display_data"
    }
   ],
   "source": [
    "plt.plot(np.arange(N)/N, error_rate)\n",
    "plt.xlabel('% classified')\n",
    "plt.ylabel('% error')"
   ]
  },
  {
   "cell_type": "code",
   "execution_count": 43,
   "metadata": {
    "collapsed": true
   },
   "outputs": [],
   "source": [
    "def custom_convolution(a, kernel):\n",
    "    n = len(a)\n",
    "    k = int((len(kernel)-1)/2)\n",
    "    \n",
    "    conv = np.zeros(n)\n",
    "    for i in range(n):\n",
    "        imin_kernel = max(0, k-i)\n",
    "        imax_kernel = min(2*k+1, k+n-i)\n",
    "        imin_a = max(0, i-k)\n",
    "        imax_a = min(n, k+1+i)\n",
    "        conv[i] = (a[imin_a:imax_a]*kernel[imin_kernel:imax_kernel]).sum() / (kernel[imin_kernel:imax_kernel].sum())\n",
    "    \n",
    "    return conv"
   ]
  },
  {
   "cell_type": "code",
   "execution_count": 47,
   "metadata": {
    "collapsed": false
   },
   "outputs": [
    {
     "data": {
      "text/plain": [
       "<matplotlib.text.Text at 0x7fd7fd719f98>"
      ]
     },
     "execution_count": 47,
     "metadata": {},
     "output_type": "execute_result"
    },
    {
     "data": {
      "image/png": "[encoded data removed]",
      "text/plain": [
       "<matplotlib.figure.Figure at 0x7fd7fdf22898>"
      ]
     },
     "metadata": {},
     "output_type": "display_data"
    }
   ],
   "source": [
    "sigma = 40.\n",
    "kernel_size = int(math.floor(3.5*sigma))\n",
    "kernel = np.exp(-np.power(np.arange(2*kernel_size+1)-kernel_size, 2.)/(2*np.power(sigma, 2.)))\n",
    "kernel /= kernel.sum()\n",
    "\n",
    "smooth_error = custom_convolution(sorted_error, kernel)\n",
    "plt.figure()\n",
    "plt.plot(smooth_error)\n",
    "plt.xlabel('confidence rank')\n",
    "plt.ylabel('% error')"
   ]
  },
  {
   "cell_type": "code",
   "execution_count": null,
   "metadata": {
    "collapsed": true
   },
   "outputs": [],
   "source": []
  }
 ],
 "metadata": {
  "kernelspec": {
   "display_name": "Python 3",
   "language": "python",
   "name": "python3"
  },
  "language_info": {
   "codemirror_mode": {
    "name": "ipython",
    "version": 3
   },
   "file_extension": ".py",
   "mimetype": "text/x-python",
   "name": "python",
   "nbconvert_exporter": "python",
   "pygments_lexer": "ipython3",
   "version": "3.4.3"
  }
 },
 "nbformat": 4,
 "nbformat_minor": 0
}
