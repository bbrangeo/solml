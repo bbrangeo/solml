{
 "cells": [
  {
   "cell_type": "code",
   "execution_count": 2,
   "metadata": {
    "collapsed": false
   },
   "outputs": [],
   "source": [
    "import sklearn.svm\n",
    "import sklearn.linear_model\n",
    "import numpy as np\n",
    "from matplotlib import pyplot as plt\n",
    "%matplotlib inline\n",
    "\n",
    "import load"
   ]
  },
  {
   "cell_type": "code",
   "execution_count": 3,
   "metadata": {
    "collapsed": false
   },
   "outputs": [],
   "source": [
    "train_ids, val_ids, test_ids, train_labels, val_labels, test_labels = load.two_balanced_classes()"
   ]
  },
  {
   "cell_type": "markdown",
   "metadata": {},
   "source": [
    "## SVM"
   ]
  },
  {
   "cell_type": "code",
   "execution_count": 14,
   "metadata": {
    "collapsed": true
   },
   "outputs": [],
   "source": [
    "color = True"
   ]
  },
  {
   "cell_type": "code",
   "execution_count": 15,
   "metadata": {
    "collapsed": false
   },
   "outputs": [],
   "source": [
    "l_list = [5, 6, 8, 10, 13, 16]\n",
    "errors = np.zeros(len(l_list))\n",
    "for i, l in enumerate(l_list):\n",
    "    train_data, val_data, test_data = load.load_all_data(train_ids, val_ids, test_ids, l, color)\n",
    "    model = sklearn.svm.LinearSVC(penalty='l2', C=1e10, dual=False)\n",
    "    model.fit(train_data, train_labels)\n",
    "    predictions = model.predict(val_data)\n",
    "    err = (predictions != val_labels).sum() / len(val_labels)\n",
    "    \n",
    "    errors[i] = err"
   ]
  },
  {
   "cell_type": "code",
   "execution_count": 17,
   "metadata": {
    "collapsed": false
   },
   "outputs": [
    {
     "data": {
      "text/plain": [
       "<matplotlib.text.Text at 0x7f6fb64198d0>"
      ]
     },
     "execution_count": 17,
     "metadata": {},
     "output_type": "execute_result"
    },
    {
     "data": {
      "image/png": "[encoded data removed]",
      "text/plain": [
       "<matplotlib.figure.Figure at 0x7f6fb6862198>"
      ]
     },
     "metadata": {},
     "output_type": "display_data"
    }
   ],
   "source": [
    "plt.plot(l_list, errors)\n",
    "plt.title(\"Taux d'erreur en fonction de la taille\")\n",
    "plt.xlabel(\"Taille de l'image 'l'\")\n",
    "plt.ylabel(\"Taux d'erreur\")"
   ]
  },
  {
   "cell_type": "code",
   "execution_count": 18,
   "metadata": {
    "collapsed": false
   },
   "outputs": [
    {
     "data": {
      "text/plain": [
       "0.125"
      ]
     },
     "execution_count": 18,
     "metadata": {},
     "output_type": "execute_result"
    }
   ],
   "source": [
    "i_opt = np.argmin(errors)\n",
    "l_opt = l_list[i_opt]\n",
    "train_data, val_data, test_data = load.load_all_data(train_ids, val_ids, test_ids, l_opt, color)\n",
    "model = sklearn.svm.LinearSVC(penalty='l2', C=1e10, dual=False)\n",
    "model.fit(train_data, train_labels)\n",
    "predictions = model.predict(test_data)\n",
    "err = (predictions != test_labels).sum() / len(test_labels)\n",
    "err"
   ]
  },
  {
   "cell_type": "markdown",
   "metadata": {},
   "source": [
    "## Logistic regression"
   ]
  },
  {
   "cell_type": "code",
   "execution_count": 4,
   "metadata": {
    "collapsed": true
   },
   "outputs": [],
   "source": [
    "color = False"
   ]
  },
  {
   "cell_type": "code",
   "execution_count": 5,
   "metadata": {
    "collapsed": false
   },
   "outputs": [],
   "source": [
    "l_list = [5, 6, 8, 10, 13, 16]\n",
    "errors = np.zeros(len(l_list))\n",
    "for i, l in enumerate(l_list):\n",
    "    train_data, val_data, test_data = load.load_all_data(train_ids, val_ids, test_ids, l, color)\n",
    "    model = sklearn.linear_model.LogisticRegression(penalty='l2', C=1e10)\n",
    "    model.fit(train_data, train_labels)\n",
    "    predictions = model.predict(val_data)\n",
    "    err = (predictions != val_labels).sum() / len(val_labels)\n",
    "    \n",
    "    errors[i] = err"
   ]
  },
  {
   "cell_type": "code",
   "execution_count": 11,
   "metadata": {
    "collapsed": false
   },
   "outputs": [
    {
     "data": {
      "text/plain": [
       "<matplotlib.text.Text at 0x7f6fb64a2a58>"
      ]
     },
     "execution_count": 11,
     "metadata": {},
     "output_type": "execute_result"
    },
    {
     "data": {
      "image/png": "[encoded data removed]",
      "text/plain": [
       "<matplotlib.figure.Figure at 0x7f6fb64e48d0>"
      ]
     },
     "metadata": {},
     "output_type": "display_data"
    }
   ],
   "source": [
    "plt.plot(l_list, errors)\n",
    "plt.title(\"Taux d'erreur en fonction de la taille\")\n",
    "plt.xlabel(\"Taille de l'image 'l'\")\n",
    "plt.ylabel(\"Taux d'erreur\")"
   ]
  },
  {
   "cell_type": "code",
   "execution_count": 12,
   "metadata": {
    "collapsed": false
   },
   "outputs": [
    {
     "data": {
      "text/plain": [
       "0.125"
      ]
     },
     "execution_count": 12,
     "metadata": {},
     "output_type": "execute_result"
    }
   ],
   "source": [
    "i_opt = np.argmin(errors)\n",
    "l_opt = l_list[i_opt]\n",
    "train_data, val_data, test_data = load.load_all_data(train_ids, val_ids, test_ids, l_opt, color)\n",
    "model = sklearn.linear_model.LogisticRegression(penalty='l2', C=1e10)\n",
    "model.fit(train_data, train_labels)\n",
    "predictions = model.predict(test_data)\n",
    "err = (predictions != test_labels).sum() / len(test_labels)\n",
    "err"
   ]
  },
  {
   "cell_type": "code",
   "execution_count": 13,
   "metadata": {
    "collapsed": false
   },
   "outputs": [
    {
     "data": {
      "text/plain": [
       "6"
      ]
     },
     "execution_count": 13,
     "metadata": {},
     "output_type": "execute_result"
    }
   ],
   "source": [
    "l_opt"
   ]
  },
  {
   "cell_type": "code",
   "execution_count": null,
   "metadata": {
    "collapsed": true
   },
   "outputs": [],
   "source": []
  }
 ],
 "metadata": {
  "kernelspec": {
   "display_name": "Python 3",
   "language": "python",
   "name": "python3"
  },
  "language_info": {
   "codemirror_mode": {
    "name": "ipython",
    "version": 3
   },
   "file_extension": ".py",
   "mimetype": "text/x-python",
   "name": "python",
   "nbconvert_exporter": "python",
   "pygments_lexer": "ipython3",
   "version": "3.4.3"
  }
 },
 "nbformat": 4,
 "nbformat_minor": 0
}
