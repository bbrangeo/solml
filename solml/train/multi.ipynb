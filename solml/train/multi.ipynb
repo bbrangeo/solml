{
 "cells": [
  {
   "cell_type": "code",
   "execution_count": 1,
   "metadata": {},
   "outputs": [
    {
     "name": "stderr",
     "output_type": "stream",
     "text": [
      "Using TensorFlow backend.\n"
     ]
    }
   ],
   "source": [
    "import math\n",
    "import time\n",
    "import configparser\n",
    "\n",
    "import numpy as np\n",
    "import sklearn.linear_model\n",
    "import sklearn.metrics\n",
    "from matplotlib import pyplot as plt\n",
    "\n",
    "from solml import load, cnn\n",
    "import split\n",
    "import get_info\n",
    "\n",
    "%matplotlib inline"
   ]
  },
  {
   "cell_type": "code",
   "execution_count": 2,
   "metadata": {
    "collapsed": true
   },
   "outputs": [],
   "source": [
    "config = configparser.ConfigParser()\n",
    "config.read('../config.ini')\n",
    "models_filename = config['main']['models']"
   ]
  },
  {
   "cell_type": "code",
   "execution_count": 3,
   "metadata": {
    "collapsed": true
   },
   "outputs": [],
   "source": [
    "train_ids, val_ids, test_ids, train_labels, val_labels, test_labels = split.get_sets()"
   ]
  },
  {
   "cell_type": "code",
   "execution_count": 4,
   "metadata": {},
   "outputs": [],
   "source": [
    "bounding_boxes = get_info.get_bounding_box(train_ids)\n",
    "cnn_train = cnn.get_cnn_features_list(train_ids, bounding_boxes)\n",
    "bounding_boxes = get_info.get_bounding_box(val_ids)\n",
    "cnn_val = cnn.get_cnn_features_list(val_ids, bounding_boxes)\n",
    "bounding_boxes = get_info.get_bounding_box(test_ids)\n",
    "cnn_test = cnn.get_cnn_features_list(test_ids, bounding_boxes)"
   ]
  },
  {
   "cell_type": "code",
   "execution_count": 5,
   "metadata": {
    "collapsed": true
   },
   "outputs": [],
   "source": [
    "class_weight=None # or 'balanced'"
   ]
  },
  {
   "cell_type": "markdown",
   "metadata": {},
   "source": [
    "## CNN"
   ]
  },
  {
   "cell_type": "code",
   "execution_count": 6,
   "metadata": {},
   "outputs": [
    {
     "name": "stdout",
     "output_type": "stream",
     "text": [
      "LR took 0.679146 seconds.\n",
      "LR took 0.914404 seconds.\n",
      "LR took 1.036362 seconds.\n",
      "LR took 1.586230 seconds.\n",
      "LR took 2.500262 seconds.\n",
      "LR took 3.769882 seconds.\n",
      "LR took 8.144414 seconds.\n",
      "LR took 16.307713 seconds.\n",
      "LR took 37.330177 seconds.\n",
      "LR took 60.086904 seconds.\n",
      "LR took 63.062312 seconds.\n",
      "LR took 65.215640 seconds.\n",
      "LR took 61.077338 seconds.\n",
      "LR took 62.773758 seconds.\n",
      "LR took 61.582564 seconds.\n"
     ]
    }
   ],
   "source": [
    "n_C = 15\n",
    "C_list = np.logspace(-10, 3, n_C)\n",
    "errors = np.zeros(n_C)\n",
    "for i, C in enumerate(C_list):\n",
    "    model = sklearn.linear_model.LogisticRegression(penalty='l2', C=C, class_weight=class_weight)\n",
    "    t = time.time()\n",
    "    model.fit(cnn_train, train_labels)\n",
    "    print(\"LR took %f seconds.\"%(time.time()-t))\n",
    "    predictions = model.predict(cnn_val)\n",
    "    errors[i] = (val_labels!=predictions).sum()/len(val_labels)"
   ]
  },
  {
   "cell_type": "code",
   "execution_count": 7,
   "metadata": {},
   "outputs": [
    {
     "data": {
      "image/png": "[encoded data removed]",
      "text/plain": [
       "<matplotlib.figure.Figure at 0x7f1c24c622b0>"
      ]
     },
     "metadata": {},
     "output_type": "display_data"
    }
   ],
   "source": [
    "plt.plot(C_list, errors)\n",
    "plt.xscale('log')"
   ]
  },
  {
   "cell_type": "code",
   "execution_count": 8,
   "metadata": {},
   "outputs": [
    {
     "name": "stdout",
     "output_type": "stream",
     "text": [
      "optimal C : 0.000037\n",
      "LR took 7.973318 seconds.\n"
     ]
    }
   ],
   "source": [
    "i_opt = np.argmin(errors)\n",
    "C_opt = C_list[i_opt] #0.000018#\n",
    "print('optimal C : %f'%C_opt)\n",
    "model_cnn = sklearn.linear_model.LogisticRegression(penalty='l2', C=C_opt, class_weight=class_weight)\n",
    "t = time.time()\n",
    "model_cnn.fit(cnn_train, train_labels)\n",
    "print(\"LR took %f seconds.\"%(time.time()-t))\n",
    "predictions = model_cnn.predict(cnn_test)\n",
    "err = (test_labels!=predictions).sum()/len(test_labels)"
   ]
  },
  {
   "cell_type": "code",
   "execution_count": 9,
   "metadata": {},
   "outputs": [
    {
     "data": {
      "text/plain": [
       "0.245"
      ]
     },
     "execution_count": 9,
     "metadata": {},
     "output_type": "execute_result"
    }
   ],
   "source": [
    "err"
   ]
  },
  {
   "cell_type": "code",
   "execution_count": 10,
   "metadata": {
    "collapsed": true
   },
   "outputs": [],
   "source": [
    "cnn_proba_val = model_cnn.predict_proba(cnn_val)[:,:-1]\n",
    "cnn_proba_test = model_cnn.predict_proba(cnn_test)[:,:-1]"
   ]
  },
  {
   "cell_type": "markdown",
   "metadata": {},
   "source": [
    "## LR"
   ]
  },
  {
   "cell_type": "code",
   "execution_count": 11,
   "metadata": {
    "collapsed": true
   },
   "outputs": [],
   "source": [
    "l = 6\n",
    "color = False\n",
    "train_reduc, val_reduc, test_reduc = split.load_images(train_ids, val_ids, test_ids, l, color)\n",
    "train_reduc = train_reduc.reshape((train_reduc.shape[0], l*l))\n",
    "val_reduc = val_reduc.reshape((val_reduc.shape[0], l*l))\n",
    "test_reduc = test_reduc.reshape((test_reduc.shape[0], l*l))"
   ]
  },
  {
   "cell_type": "code",
   "execution_count": 12,
   "metadata": {},
   "outputs": [
    {
     "data": {
      "text/plain": [
       "0.49770546516478931"
      ]
     },
     "execution_count": 12,
     "metadata": {},
     "output_type": "execute_result"
    }
   ],
   "source": [
    "model_lr = sklearn.linear_model.LogisticRegression(penalty='l2', C=1e10, class_weight=class_weight)\n",
    "model_lr.fit(train_reduc, train_labels)\n",
    "predictions = model_lr.predict(val_reduc)\n",
    "error = (val_labels!=predictions).sum()/len(val_labels)\n",
    "error"
   ]
  },
  {
   "cell_type": "code",
   "execution_count": 13,
   "metadata": {
    "collapsed": true
   },
   "outputs": [],
   "source": [
    "reduc_proba_val = model_lr.predict_proba(val_reduc)[:,:-1]\n",
    "reduc_proba_test = model_lr.predict_proba(test_reduc)[:,:-1]"
   ]
  },
  {
   "cell_type": "code",
   "execution_count": 14,
   "metadata": {
    "collapsed": true
   },
   "outputs": [],
   "source": [
    "val_mix = np.concatenate([cnn_proba_val, reduc_proba_val], axis=1)\n",
    "test_mix = np.concatenate([cnn_proba_test, reduc_proba_test], axis=1)"
   ]
  },
  {
   "cell_type": "code",
   "execution_count": 15,
   "metadata": {},
   "outputs": [
    {
     "data": {
      "text/plain": [
       "0.245"
      ]
     },
     "execution_count": 15,
     "metadata": {},
     "output_type": "execute_result"
    }
   ],
   "source": [
    "model_ensemble = sklearn.linear_model.LogisticRegression(penalty='l2', C=1e10, class_weight=class_weight)\n",
    "model_ensemble.fit(val_mix, val_labels)\n",
    "predictions = model_ensemble.predict(test_mix)\n",
    "error = (test_labels!=predictions).sum()/len(test_labels)\n",
    "error"
   ]
  },
  {
   "cell_type": "code",
   "execution_count": 16,
   "metadata": {
    "collapsed": true
   },
   "outputs": [],
   "source": [
    "probas = model_ensemble.predict_proba(test_mix)"
   ]
  },
  {
   "cell_type": "markdown",
   "metadata": {},
   "source": [
    "## Confusion matrix"
   ]
  },
  {
   "cell_type": "code",
   "execution_count": 17,
   "metadata": {},
   "outputs": [
    {
     "data": {
      "text/plain": [
       "array([[925,  32,  11,  72],\n",
       "       [ 46, 416,  15,  54],\n",
       "       [ 27,  17, 194,  24],\n",
       "       [163, 106,  21, 277]])"
      ]
     },
     "execution_count": 17,
     "metadata": {},
     "output_type": "execute_result"
    }
   ],
   "source": [
    "sklearn.metrics.confusion_matrix(test_labels, predictions)"
   ]
  },
  {
   "cell_type": "markdown",
   "metadata": {},
   "source": [
    "## Confidence"
   ]
  },
  {
   "cell_type": "code",
   "execution_count": 18,
   "metadata": {
    "collapsed": true
   },
   "outputs": [],
   "source": [
    "confidence = np.max(probas, axis=1)"
   ]
  },
  {
   "cell_type": "code",
   "execution_count": 19,
   "metadata": {},
   "outputs": [
    {
     "data": {
      "text/plain": [
       "(array([  1.,   0.,   0.,   0.,   0.,   1.,   0.,   0.,   0.,   0.,   1.,\n",
       "          1.,   4.,   5.,   5.,   6.,   2.,   4.,   6.,   3.,   0.,   8.,\n",
       "          6.,   6.,  12.,   6.,   8.,  12.,  19.,  17.,  17.,  19.,  15.,\n",
       "         18.,  17.,  19.,  18.,  18.,  18.,  20.,  12.,  15.,  14.,  17.,\n",
       "         24.,  29.,  16.,  21.,  18.,  19.,  32.,  19.,  15.,  18.,  19.,\n",
       "         25.,  22.,  12.,  22.,  24.,  27.,  22.,  27.,  20.,  31.,  31.,\n",
       "         27.,  22.,  31.,  35.,  35.,  38.,  32.,  28.,  38.,  36.,  40.,\n",
       "         27.,  38.,  44.,  40.,  48.,  43.,  44.,  52.,  62.,  64.,  61.,\n",
       "         63.,  74.,  75.,  75.,  76.,  67.,  57.,  36.,  45.,  44.,  24.,\n",
       "         16.]),\n",
       " array([ 0.28020742,  0.28668255,  0.29315769,  0.29963282,  0.30610796,\n",
       "         0.3125831 ,  0.31905823,  0.32553337,  0.33200851,  0.33848364,\n",
       "         0.34495878,  0.35143392,  0.35790905,  0.36438419,  0.37085933,\n",
       "         0.37733446,  0.3838096 ,  0.39028474,  0.39675987,  0.40323501,\n",
       "         0.40971015,  0.41618528,  0.42266042,  0.42913555,  0.43561069,\n",
       "         0.44208583,  0.44856096,  0.4550361 ,  0.46151124,  0.46798637,\n",
       "         0.47446151,  0.48093665,  0.48741178,  0.49388692,  0.50036206,\n",
       "         0.50683719,  0.51331233,  0.51978747,  0.5262626 ,  0.53273774,\n",
       "         0.53921288,  0.54568801,  0.55216315,  0.55863828,  0.56511342,\n",
       "         0.57158856,  0.57806369,  0.58453883,  0.59101397,  0.5974891 ,\n",
       "         0.60396424,  0.61043938,  0.61691451,  0.62338965,  0.62986479,\n",
       "         0.63633992,  0.64281506,  0.6492902 ,  0.65576533,  0.66224047,\n",
       "         0.66871561,  0.67519074,  0.68166588,  0.68814101,  0.69461615,\n",
       "         0.70109129,  0.70756642,  0.71404156,  0.7205167 ,  0.72699183,\n",
       "         0.73346697,  0.73994211,  0.74641724,  0.75289238,  0.75936752,\n",
       "         0.76584265,  0.77231779,  0.77879293,  0.78526806,  0.7917432 ,\n",
       "         0.79821833,  0.80469347,  0.81116861,  0.81764374,  0.82411888,\n",
       "         0.83059402,  0.83706915,  0.84354429,  0.85001943,  0.85649456,\n",
       "         0.8629697 ,  0.86944484,  0.87591997,  0.88239511,  0.88887025,\n",
       "         0.89534538,  0.90182052,  0.90829566,  0.91477079,  0.92124593,\n",
       "         0.92772106]),\n",
       " <a list of 100 Patch objects>)"
      ]
     },
     "execution_count": 19,
     "metadata": {},
     "output_type": "execute_result"
    },
    {
     "data": {
      "image/png": "[encoded data removed]",
      "text/plain": [
       "<matplotlib.figure.Figure at 0x7f1c23c46240>"
      ]
     },
     "metadata": {},
     "output_type": "display_data"
    }
   ],
   "source": [
    "plt.hist(confidence, bins=100)"
   ]
  },
  {
   "cell_type": "code",
   "execution_count": 20,
   "metadata": {},
   "outputs": [
    {
     "name": "stderr",
     "output_type": "stream",
     "text": [
      "/home/salon/.virtualenvs/solar/lib/python3.5/site-packages/ipykernel_launcher.py:5: RuntimeWarning: invalid value encountered in true_divide\n",
      "  \"\"\"\n"
     ]
    }
   ],
   "source": [
    "N = len(confidence)\n",
    "confidence_order = np.argsort(-confidence)\n",
    "sorted_error = (predictions[confidence_order]!=test_labels[confidence_order])\n",
    "nb_errors = np.cumsum(sorted_error)\n",
    "error_rate = nb_errors/np.arange(N)"
   ]
  },
  {
   "cell_type": "code",
   "execution_count": 21,
   "metadata": {},
   "outputs": [
    {
     "data": {
      "text/plain": [
       "<matplotlib.text.Text at 0x7f1c20036080>"
      ]
     },
     "execution_count": 21,
     "metadata": {},
     "output_type": "execute_result"
    },
    {
     "data": {
      "image/png": "[encoded data removed]",
      "text/plain": [
       "<matplotlib.figure.Figure at 0x7f1c201c45c0>"
      ]
     },
     "metadata": {},
     "output_type": "display_data"
    }
   ],
   "source": [
    "plt.plot(np.arange(N)/N, error_rate)\n",
    "plt.xlabel('% classified')\n",
    "plt.ylabel('% error')"
   ]
  },
  {
   "cell_type": "code",
   "execution_count": 22,
   "metadata": {
    "collapsed": true
   },
   "outputs": [],
   "source": [
    "def custom_convolution(a, kernel):\n",
    "    n = len(a)\n",
    "    k = int((len(kernel)-1)/2)\n",
    "    \n",
    "    conv = np.zeros(n)\n",
    "    for i in range(n):\n",
    "        imin_kernel = max(0, k-i)\n",
    "        imax_kernel = min(2*k+1, k+n-i)\n",
    "        imin_a = max(0, i-k)\n",
    "        imax_a = min(n, k+1+i)\n",
    "        conv[i] = (a[imin_a:imax_a]*kernel[imin_kernel:imax_kernel]).sum() / (kernel[imin_kernel:imax_kernel].sum())\n",
    "    \n",
    "    return conv"
   ]
  },
  {
   "cell_type": "code",
   "execution_count": 23,
   "metadata": {},
   "outputs": [
    {
     "data": {
      "text/plain": [
       "<matplotlib.text.Text at 0x7f1c19f9d160>"
      ]
     },
     "execution_count": 23,
     "metadata": {},
     "output_type": "execute_result"
    },
    {
     "data": {
      "image/png": "[encoded data removed]",
      "text/plain": [
       "<matplotlib.figure.Figure at 0x7f1c19ff8438>"
      ]
     },
     "metadata": {},
     "output_type": "display_data"
    }
   ],
   "source": [
    "sigma = 40.\n",
    "kernel_size = int(math.floor(3.5*sigma))\n",
    "kernel = np.exp(-np.power(np.arange(2*kernel_size+1)-kernel_size, 2.)/(2*np.power(sigma, 2.)))\n",
    "kernel /= kernel.sum()\n",
    "\n",
    "smooth_error = custom_convolution(sorted_error, kernel)\n",
    "plt.figure()\n",
    "plt.plot(smooth_error)\n",
    "plt.xlabel('confidence rank')\n",
    "plt.ylabel('% error')"
   ]
  },
  {
   "cell_type": "markdown",
   "metadata": {
    "collapsed": true
   },
   "source": [
    "## Save model"
   ]
  },
  {
   "cell_type": "code",
   "execution_count": 24,
   "metadata": {
    "collapsed": true
   },
   "outputs": [],
   "source": [
    "import pickle\n",
    "pickle.dump((model_cnn, model_lr, model_ensemble), open(models_filename, 'wb'))"
   ]
  },
  {
   "cell_type": "code",
   "execution_count": null,
   "metadata": {
    "collapsed": true
   },
   "outputs": [],
   "source": []
  }
 ],
 "metadata": {
  "kernelspec": {
   "display_name": "Python 3",
   "language": "python",
   "name": "python3"
  },
  "language_info": {
   "codemirror_mode": {
    "name": "ipython",
    "version": 3
   },
   "file_extension": ".py",
   "mimetype": "text/x-python",
   "name": "python",
   "nbconvert_exporter": "python",
   "pygments_lexer": "ipython3",
   "version": "3.5.3"
  }
 },
 "nbformat": 4,
 "nbformat_minor": 1
}
