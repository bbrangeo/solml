{
 "cells": [
  {
   "cell_type": "code",
   "execution_count": 1,
   "metadata": {},
   "outputs": [
    {
     "name": "stderr",
     "output_type": "stream",
     "text": [
      "Using TensorFlow backend.\n"
     ]
    }
   ],
   "source": [
    "import math\n",
    "import time\n",
    "import configparser\n",
    "\n",
    "import numpy as np\n",
    "import sklearn.linear_model\n",
    "import sklearn.metrics\n",
    "from matplotlib import pyplot as plt\n",
    "\n",
    "from solml import load, cnn\n",
    "import split\n",
    "import get_info\n",
    "\n",
    "%matplotlib inline"
   ]
  },
  {
   "cell_type": "code",
   "execution_count": 2,
   "metadata": {},
   "outputs": [],
   "source": [
    "config = configparser.ConfigParser()\n",
    "config.read('../config.ini')\n",
    "models_filename = config['main']['models']"
   ]
  },
  {
   "cell_type": "code",
   "execution_count": 3,
   "metadata": {
    "collapsed": true
   },
   "outputs": [],
   "source": [
    "train_ids, val_ids, test_ids, train_labels, val_labels, test_labels = split.get_sets()"
   ]
  },
  {
   "cell_type": "code",
   "execution_count": 4,
   "metadata": {},
   "outputs": [],
   "source": [
    "bounding_boxes = get_info.get_bounding_box(train_ids)\n",
    "cnn_train = cnn.get_cnn_features_list(train_ids, bounding_boxes)\n",
    "bounding_boxes = get_info.get_bounding_box(val_ids)\n",
    "cnn_val = cnn.get_cnn_features_list(val_ids, bounding_boxes)\n",
    "bounding_boxes = get_info.get_bounding_box(test_ids)\n",
    "cnn_test = cnn.get_cnn_features_list(test_ids, bounding_boxes)"
   ]
  },
  {
   "cell_type": "code",
   "execution_count": 5,
   "metadata": {
    "collapsed": true
   },
   "outputs": [],
   "source": [
    "class_weight=None # or 'balanced'"
   ]
  },
  {
   "cell_type": "markdown",
   "metadata": {},
   "source": [
    "## CNN"
   ]
  },
  {
   "cell_type": "code",
   "execution_count": 6,
   "metadata": {},
   "outputs": [
    {
     "name": "stdout",
     "output_type": "stream",
     "text": [
      "LR took 0.718867 seconds.\n",
      "LR took 0.931053 seconds.\n",
      "LR took 1.207392 seconds.\n",
      "LR took 1.555092 seconds.\n",
      "LR took 2.992789 seconds.\n",
      "LR took 6.489259 seconds.\n",
      "LR took 9.260968 seconds.\n",
      "LR took 19.718962 seconds.\n",
      "LR took 30.208650 seconds.\n",
      "LR took 40.352445 seconds.\n",
      "LR took 40.469589 seconds.\n",
      "LR took 40.241684 seconds.\n",
      "LR took 43.433421 seconds.\n",
      "LR took 43.057628 seconds.\n",
      "LR took 44.417286 seconds.\n",
      "LR took 42.705153 seconds.\n",
      "LR took 42.745559 seconds.\n",
      "LR took 41.650874 seconds.\n",
      "LR took 41.826944 seconds.\n",
      "LR took 43.117941 seconds.\n"
     ]
    }
   ],
   "source": [
    "n_C = 20\n",
    "C_list = np.logspace(-10, 10, n_C)\n",
    "errors = np.zeros(n_C)\n",
    "for i, C in enumerate(C_list):\n",
    "    model = sklearn.linear_model.LogisticRegression(penalty='l2', C=C, class_weight=class_weight)\n",
    "    t = time.time()\n",
    "    model.fit(cnn_train, train_labels)\n",
    "    print(\"LR took %f seconds.\"%(time.time()-t))\n",
    "    predictions = model.predict(cnn_val)\n",
    "    errors[i] = (val_labels!=predictions).sum()/len(val_labels)"
   ]
  },
  {
   "cell_type": "code",
   "execution_count": 7,
   "metadata": {},
   "outputs": [
    {
     "data": {
      "image/png": "[encoded data removed]",
      "text/plain": [
       "<matplotlib.figure.Figure at 0x7f4434643a20>"
      ]
     },
     "metadata": {},
     "output_type": "display_data"
    }
   ],
   "source": [
    "plt.plot(C_list, errors)\n",
    "plt.xscale('log')"
   ]
  },
  {
   "cell_type": "code",
   "execution_count": 8,
   "metadata": {},
   "outputs": [
    {
     "name": "stdout",
     "output_type": "stream",
     "text": [
      "optimal C : 0.000018\n",
      "LR took 6.644945 seconds.\n"
     ]
    }
   ],
   "source": [
    "#i_opt = np.argmin(errors)\n",
    "C_opt = 0.000018#C_list[i_opt]\n",
    "print('optimal C : %f'%C_opt)\n",
    "model_cnn = sklearn.linear_model.LogisticRegression(penalty='l2', C=C_opt, class_weight=class_weight)\n",
    "t = time.time()\n",
    "model_cnn.fit(cnn_train, train_labels)\n",
    "print(\"LR took %f seconds.\"%(time.time()-t))\n",
    "predictions = model_cnn.predict(cnn_test)\n",
    "err = (test_labels!=predictions).sum()/len(test_labels)"
   ]
  },
  {
   "cell_type": "code",
   "execution_count": 9,
   "metadata": {},
   "outputs": [
    {
     "data": {
      "text/plain": [
       "0.25166666666666665"
      ]
     },
     "execution_count": 9,
     "metadata": {},
     "output_type": "execute_result"
    }
   ],
   "source": [
    "err"
   ]
  },
  {
   "cell_type": "code",
   "execution_count": 10,
   "metadata": {
    "collapsed": true
   },
   "outputs": [],
   "source": [
    "cnn_proba_val = model_cnn.predict_proba(cnn_val)[:,:-1]\n",
    "cnn_proba_test = model_cnn.predict_proba(cnn_test)[:,:-1]"
   ]
  },
  {
   "cell_type": "markdown",
   "metadata": {},
   "source": [
    "## LR"
   ]
  },
  {
   "cell_type": "code",
   "execution_count": 14,
   "metadata": {},
   "outputs": [],
   "source": [
    "l = 6\n",
    "color = False\n",
    "train_reduc, val_reduc, test_reduc = split.load_images(train_ids, val_ids, test_ids, l, color)\n",
    "train_reduc = train_reduc.reshape((train_reduc.shape[0], 36))\n",
    "val_reduc = val_reduc.reshape((val_reduc.shape[0], 36))\n",
    "test_reduc = test_reduc.reshape((test_reduc.shape[0], 36))"
   ]
  },
  {
   "cell_type": "code",
   "execution_count": 15,
   "metadata": {},
   "outputs": [
    {
     "data": {
      "text/plain": [
       "0.43137254901960786"
      ]
     },
     "execution_count": 15,
     "metadata": {},
     "output_type": "execute_result"
    }
   ],
   "source": [
    "model_lr = sklearn.linear_model.LogisticRegression(penalty='l2', C=1e10, class_weight=class_weight)\n",
    "model_lr.fit(train_reduc, train_labels)\n",
    "predictions = model_lr.predict(val_reduc)\n",
    "error = (val_labels!=predictions).sum()/len(val_labels)\n",
    "error"
   ]
  },
  {
   "cell_type": "code",
   "execution_count": 16,
   "metadata": {
    "collapsed": true
   },
   "outputs": [],
   "source": [
    "reduc_proba_val = model_lr.predict_proba(val_reduc)[:,:-1]\n",
    "reduc_proba_test = model_lr.predict_proba(test_reduc)[:,:-1]"
   ]
  },
  {
   "cell_type": "code",
   "execution_count": 17,
   "metadata": {},
   "outputs": [],
   "source": [
    "val_mix = np.concatenate([cnn_proba_val, reduc_proba_val], axis=1)\n",
    "test_mix = np.concatenate([cnn_proba_test, reduc_proba_test], axis=1)"
   ]
  },
  {
   "cell_type": "code",
   "execution_count": 18,
   "metadata": {},
   "outputs": [
    {
     "data": {
      "text/plain": [
       "0.24708333333333332"
      ]
     },
     "execution_count": 18,
     "metadata": {},
     "output_type": "execute_result"
    }
   ],
   "source": [
    "model_ensemble = sklearn.linear_model.LogisticRegression(penalty='l2', C=1e10, class_weight=class_weight)\n",
    "model_ensemble.fit(val_mix, val_labels)\n",
    "predictions = model_ensemble.predict(test_mix)\n",
    "error = (test_labels!=predictions).sum()/len(test_labels)\n",
    "error"
   ]
  },
  {
   "cell_type": "code",
   "execution_count": 19,
   "metadata": {
    "collapsed": true
   },
   "outputs": [],
   "source": [
    "probas = model_ensemble.predict_proba(test_mix)"
   ]
  },
  {
   "cell_type": "markdown",
   "metadata": {},
   "source": [
    "## Confusion matrix"
   ]
  },
  {
   "cell_type": "code",
   "execution_count": 20,
   "metadata": {},
   "outputs": [
    {
     "data": {
      "text/plain": [
       "array([[932,  14,  16,  78],\n",
       "       [ 39, 399,  12,  81],\n",
       "       [ 33,  29, 160,  40],\n",
       "       [150,  77,  24, 316]])"
      ]
     },
     "execution_count": 20,
     "metadata": {},
     "output_type": "execute_result"
    }
   ],
   "source": [
    "sklearn.metrics.confusion_matrix(test_labels, predictions)"
   ]
  },
  {
   "cell_type": "markdown",
   "metadata": {},
   "source": [
    "## Confidence"
   ]
  },
  {
   "cell_type": "code",
   "execution_count": 21,
   "metadata": {
    "collapsed": true
   },
   "outputs": [],
   "source": [
    "confidence = np.max(probas, axis=1)"
   ]
  },
  {
   "cell_type": "code",
   "execution_count": 22,
   "metadata": {},
   "outputs": [
    {
     "data": {
      "text/plain": [
       "(array([  1.,   0.,   2.,   0.,   2.,   2.,   5.,   3.,   2.,   3.,   5.,\n",
       "          3.,   5.,   8.,  11.,   9.,   9.,  11.,  11.,   7.,  16.,   9.,\n",
       "         23.,  19.,  12.,  18.,  16.,  26.,  24.,  28.,  17.,  22.,  21.,\n",
       "         19.,  22.,  18.,  23.,  26.,  24.,  20.,  10.,  22.,  19.,  15.,\n",
       "         21.,  19.,  18.,  18.,  16.,  22.,  20.,  21.,  10.,  18.,  19.,\n",
       "         19.,  19.,  24.,  16.,  22.,  14.,  18.,  21.,  19.,  19.,  27.,\n",
       "         25.,  22.,  35.,  30.,  33.,  27.,  23.,  30.,  33.,  42.,  28.,\n",
       "         46.,  24.,  34.,  31.,  33.,  35.,  39.,  37.,  49.,  49.,  41.,\n",
       "         45.,  51.,  64.,  62.,  88.,  55.,  65.,  57.,  67.,  52.,  31.,\n",
       "         29.]),\n",
       " array([ 0.29049477,  0.29713296,  0.30377116,  0.31040935,  0.31704755,\n",
       "         0.32368574,  0.33032394,  0.33696213,  0.34360033,  0.35023852,\n",
       "         0.35687672,  0.36351491,  0.37015311,  0.3767913 ,  0.3834295 ,\n",
       "         0.39006769,  0.39670589,  0.40334408,  0.40998228,  0.41662048,\n",
       "         0.42325867,  0.42989687,  0.43653506,  0.44317326,  0.44981145,\n",
       "         0.45644965,  0.46308784,  0.46972604,  0.47636423,  0.48300243,\n",
       "         0.48964062,  0.49627882,  0.50291701,  0.50955521,  0.5161934 ,\n",
       "         0.5228316 ,  0.52946979,  0.53610799,  0.54274618,  0.54938438,\n",
       "         0.55602257,  0.56266077,  0.56929896,  0.57593716,  0.58257535,\n",
       "         0.58921355,  0.59585174,  0.60248994,  0.60912813,  0.61576633,\n",
       "         0.62240452,  0.62904272,  0.63568091,  0.64231911,  0.6489573 ,\n",
       "         0.6555955 ,  0.66223369,  0.66887189,  0.67551008,  0.68214828,\n",
       "         0.68878647,  0.69542467,  0.70206286,  0.70870106,  0.71533925,\n",
       "         0.72197745,  0.72861564,  0.73525384,  0.74189203,  0.74853023,\n",
       "         0.75516842,  0.76180662,  0.76844481,  0.77508301,  0.78172121,\n",
       "         0.7883594 ,  0.7949976 ,  0.80163579,  0.80827399,  0.81491218,\n",
       "         0.82155038,  0.82818857,  0.83482677,  0.84146496,  0.84810316,\n",
       "         0.85474135,  0.86137955,  0.86801774,  0.87465594,  0.88129413,\n",
       "         0.88793233,  0.89457052,  0.90120872,  0.90784691,  0.91448511,\n",
       "         0.9211233 ,  0.9277615 ,  0.93439969,  0.94103789,  0.94767608,\n",
       "         0.95431428]),\n",
       " <a list of 100 Patch objects>)"
      ]
     },
     "execution_count": 22,
     "metadata": {},
     "output_type": "execute_result"
    },
    {
     "data": {
      "image/png": "[encoded data removed]",
      "text/plain": [
       "<matplotlib.figure.Figure at 0x7f4400c0ae80>"
      ]
     },
     "metadata": {},
     "output_type": "display_data"
    }
   ],
   "source": [
    "plt.hist(confidence, bins=100)"
   ]
  },
  {
   "cell_type": "code",
   "execution_count": 23,
   "metadata": {},
   "outputs": [
    {
     "name": "stderr",
     "output_type": "stream",
     "text": [
      "/home/michel/.virtualenvs/solar/lib/python3.4/site-packages/ipykernel_launcher.py:5: RuntimeWarning: invalid value encountered in true_divide\n",
      "  \"\"\"\n"
     ]
    }
   ],
   "source": [
    "N = len(confidence)\n",
    "confidence_order = np.argsort(-confidence)\n",
    "sorted_error = (predictions[confidence_order]!=test_labels[confidence_order])\n",
    "nb_errors = np.cumsum(sorted_error)\n",
    "error_rate = nb_errors/np.arange(N)"
   ]
  },
  {
   "cell_type": "code",
   "execution_count": 24,
   "metadata": {},
   "outputs": [
    {
     "data": {
      "text/plain": [
       "<matplotlib.text.Text at 0x7f43fe25d7f0>"
      ]
     },
     "execution_count": 24,
     "metadata": {},
     "output_type": "execute_result"
    },
    {
     "data": {
      "image/png": "[encoded data removed]",
      "text/plain": [
       "<matplotlib.figure.Figure at 0x7f43fe23eb00>"
      ]
     },
     "metadata": {},
     "output_type": "display_data"
    }
   ],
   "source": [
    "plt.plot(np.arange(N)/N, error_rate)\n",
    "plt.xlabel('% classified')\n",
    "plt.ylabel('% error')"
   ]
  },
  {
   "cell_type": "code",
   "execution_count": 25,
   "metadata": {
    "collapsed": true
   },
   "outputs": [],
   "source": [
    "def custom_convolution(a, kernel):\n",
    "    n = len(a)\n",
    "    k = int((len(kernel)-1)/2)\n",
    "    \n",
    "    conv = np.zeros(n)\n",
    "    for i in range(n):\n",
    "        imin_kernel = max(0, k-i)\n",
    "        imax_kernel = min(2*k+1, k+n-i)\n",
    "        imin_a = max(0, i-k)\n",
    "        imax_a = min(n, k+1+i)\n",
    "        conv[i] = (a[imin_a:imax_a]*kernel[imin_kernel:imax_kernel]).sum() / (kernel[imin_kernel:imax_kernel].sum())\n",
    "    \n",
    "    return conv"
   ]
  },
  {
   "cell_type": "code",
   "execution_count": 26,
   "metadata": {},
   "outputs": [
    {
     "data": {
      "text/plain": [
       "<matplotlib.text.Text at 0x7f4400c5d908>"
      ]
     },
     "execution_count": 26,
     "metadata": {},
     "output_type": "execute_result"
    },
    {
     "data": {
      "image/png": "[encoded data removed]",
      "text/plain": [
       "<matplotlib.figure.Figure at 0x7f43fe2276d8>"
      ]
     },
     "metadata": {},
     "output_type": "display_data"
    }
   ],
   "source": [
    "sigma = 40.\n",
    "kernel_size = int(math.floor(3.5*sigma))\n",
    "kernel = np.exp(-np.power(np.arange(2*kernel_size+1)-kernel_size, 2.)/(2*np.power(sigma, 2.)))\n",
    "kernel /= kernel.sum()\n",
    "\n",
    "smooth_error = custom_convolution(sorted_error, kernel)\n",
    "plt.figure()\n",
    "plt.plot(smooth_error)\n",
    "plt.xlabel('confidence rank')\n",
    "plt.ylabel('% error')"
   ]
  },
  {
   "cell_type": "markdown",
   "metadata": {
    "collapsed": true
   },
   "source": [
    "## Save model"
   ]
  },
  {
   "cell_type": "code",
   "execution_count": 27,
   "metadata": {},
   "outputs": [],
   "source": [
    "import pickle\n",
    "pickle.dump((model_cnn, model_lr, model_ensemble), open(models_filename, 'wb'))"
   ]
  },
  {
   "cell_type": "code",
   "execution_count": null,
   "metadata": {
    "collapsed": true
   },
   "outputs": [],
   "source": []
  }
 ],
 "metadata": {
  "kernelspec": {
   "display_name": "Python 3",
   "language": "python",
   "name": "python3"
  },
  "language_info": {
   "codemirror_mode": {
    "name": "ipython",
    "version": 3
   },
   "file_extension": ".py",
   "mimetype": "text/x-python",
   "name": "python",
   "nbconvert_exporter": "python",
   "pygments_lexer": "ipython3",
   "version": "3.4.2"
  }
 },
 "nbformat": 4,
 "nbformat_minor": 1
}
