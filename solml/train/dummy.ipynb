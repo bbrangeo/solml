{
 "cells": [
  {
   "cell_type": "code",
   "execution_count": 1,
   "metadata": {},
   "outputs": [],
   "source": [
    "import numpy as np\n",
    "from matplotlib import pyplot as plt\n",
    "\n",
    "import split\n",
    "\n",
    "%matplotlib inline"
   ]
  },
  {
   "cell_type": "code",
   "execution_count": 2,
   "metadata": {
    "collapsed": true
   },
   "outputs": [],
   "source": [
    "l = 16\n",
    "color = False\n",
    "train_ids, val_ids, test_ids, train_labels, val_labels, test_labels = split.two_balanced_classes()\n",
    "train_data, val_data, test_data = split.load_images(train_ids, val_ids, test_ids, l, color)"
   ]
  },
  {
   "cell_type": "code",
   "execution_count": 3,
   "metadata": {
    "collapsed": true
   },
   "outputs": [],
   "source": [
    "def test(test_data, test_labels, l, intercept):\n",
    "    N, d = test_data.shape\n",
    "    assert (d == l*l)\n",
    "    sum_east = np.zeros(N)\n",
    "    sum_west = np.zeros(N)\n",
    "    sum_north = np.zeros(N)\n",
    "    sum_south = np.zeros(N)\n",
    "    cut = int(l/2)\n",
    "    for i in range(N):\n",
    "        image = test_data[i, :].reshape((l, l))\n",
    "        sum_east[i] = image[:, :cut].sum()\n",
    "        sum_west[i] = image[:, cut:].sum()\n",
    "        sum_north[i] = image[:cut, :].sum()\n",
    "        sum_east[i] = image[cut:, :].sum()\n",
    "        \n",
    "    delta_east_west = intercept+np.abs(sum_east - sum_west)\n",
    "    delta_north_south = np.abs(sum_north - sum_south)\n",
    "    \n",
    "    predicted_classes = 1+(delta_east_west<delta_north_south)\n",
    "\n",
    "    error_rate = (test_labels!=predicted_classes).sum()/len(test_labels)\n",
    "    \n",
    "    return error_rate"
   ]
  },
  {
   "cell_type": "code",
   "execution_count": 4,
   "metadata": {
    "collapsed": true
   },
   "outputs": [],
   "source": [
    "intercept_values = range(0, 20000, 100)\n",
    "error_rates = []\n",
    "for intercept in intercept_values:\n",
    "    error_rates.append(test(test_data, test_labels, l, intercept))"
   ]
  },
  {
   "cell_type": "code",
   "execution_count": 5,
   "metadata": {},
   "outputs": [
    {
     "data": {
      "text/plain": [
       "[<matplotlib.lines.Line2D at 0x7ff8e35931d0>]"
      ]
     },
     "execution_count": 5,
     "metadata": {},
     "output_type": "execute_result"
    },
    {
     "data": {
      "image/png": "[encoded data removed]",
      "text/plain": [
       "<matplotlib.figure.Figure at 0x7ff8e59fc2e8>"
      ]
     },
     "metadata": {},
     "output_type": "display_data"
    }
   ],
   "source": [
    "plt.plot(intercept_values, error_rates)"
   ]
  },
  {
   "cell_type": "code",
   "execution_count": null,
   "metadata": {
    "collapsed": true
   },
   "outputs": [],
   "source": []
  },
  {
   "cell_type": "code",
   "execution_count": null,
   "metadata": {
    "collapsed": true
   },
   "outputs": [],
   "source": []
  }
 ],
 "metadata": {
  "kernelspec": {
   "display_name": "Python 3",
   "language": "python",
   "name": "python3"
  },
  "language_info": {
   "codemirror_mode": {
    "name": "ipython",
    "version": 3
   },
   "file_extension": ".py",
   "mimetype": "text/x-python",
   "name": "python",
   "nbconvert_exporter": "python",
   "pygments_lexer": "ipython3",
   "version": "3.4.2"
  }
 },
 "nbformat": 4,
 "nbformat_minor": 1
}
