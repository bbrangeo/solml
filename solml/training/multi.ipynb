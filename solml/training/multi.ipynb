{
 "cells": [
  {
   "cell_type": "code",
   "execution_count": 1,
   "metadata": {
    "collapsed": false,
    "deletable": true,
    "editable": true
   },
   "outputs": [
    {
     "name": "stderr",
     "output_type": "stream",
     "text": [
      "Using TensorFlow backend.\n"
     ]
    }
   ],
   "source": [
    "import math\n",
    "import time\n",
    "\n",
    "import numpy as np\n",
    "import sklearn.linear_model\n",
    "import sklearn.metrics\n",
    "from matplotlib import pyplot as plt\n",
    "\n",
    "from solml import load, cnn\n",
    "import split\n",
    "import get_info\n",
    "\n",
    "%matplotlib inline"
   ]
  },
  {
   "cell_type": "code",
   "execution_count": 2,
   "metadata": {
    "collapsed": true,
    "deletable": true,
    "editable": true
   },
   "outputs": [],
   "source": [
    "train_ids, val_ids, test_ids, train_labels, val_labels, test_labels = split.get_sets()"
   ]
  },
  {
   "cell_type": "code",
   "execution_count": null,
   "metadata": {
    "collapsed": false,
    "deletable": true,
    "editable": true
   },
   "outputs": [],
   "source": [
    "bounding_boxes = get_info.get_bounding_box(train_ids)\n",
    "cnn_train = cnn.get_cnn_features_list(train_ids, bounding_boxes)\n",
    "bounding_boxes = get_info.get_bounding_box(val_ids)\n",
    "cnn_val = cnn.get_cnn_features_list(val_ids, bounding_boxes)\n",
    "bounding_boxes = get_info.get_bounding_box(test_ids)\n",
    "cnn_test = cnn.get_cnn_features_list(test_ids, bounding_boxes)"
   ]
  },
  {
   "cell_type": "code",
   "execution_count": null,
   "metadata": {
    "collapsed": true,
    "deletable": true,
    "editable": true
   },
   "outputs": [],
   "source": [
    "class_weight=None # or 'balanced'"
   ]
  },
  {
   "cell_type": "markdown",
   "metadata": {
    "deletable": true,
    "editable": true
   },
   "source": [
    "## CNN"
   ]
  },
  {
   "cell_type": "code",
   "execution_count": null,
   "metadata": {
    "collapsed": false,
    "deletable": true,
    "editable": true
   },
   "outputs": [],
   "source": [
    "n_C = 20\n",
    "C_list = np.logspace(-10, 10, n_C)\n",
    "errors = np.zeros(n_C)\n",
    "for i, C in enumerate(C_list):\n",
    "    model = sklearn.linear_model.LogisticRegression(penalty='l2', C=C, class_weight=class_weight)\n",
    "    t = time.time()\n",
    "    model.fit(cnn_train, train_labels)\n",
    "    print(\"LR took %f seconds.\"%(time.time()-t))\n",
    "    predictions = model.predict(cnn_val)\n",
    "    errors[i] = (val_labels!=predictions).sum()/len(val_labels)"
   ]
  },
  {
   "cell_type": "code",
   "execution_count": null,
   "metadata": {
    "collapsed": false,
    "deletable": true,
    "editable": true
   },
   "outputs": [],
   "source": [
    "plt.plot(C_list, errors)\n",
    "plt.xscale('log')"
   ]
  },
  {
   "cell_type": "code",
   "execution_count": null,
   "metadata": {
    "collapsed": false,
    "deletable": true,
    "editable": true
   },
   "outputs": [],
   "source": [
    "#i_opt = np.argmin(errors)\n",
    "C_opt = 0.000018#C_list[i_opt]\n",
    "print('optimal C : %f'%C_opt)\n",
    "model_cnn = sklearn.linear_model.LogisticRegression(penalty='l2', C=C_opt, class_weight=class_weight)\n",
    "t = time.time()\n",
    "model_cnn.fit(cnn_train, train_labels)\n",
    "print(\"LR took %f seconds.\"%(time.time()-t))\n",
    "predictions = model_cnn.predict(cnn_test)\n",
    "err = (test_labels!=predictions).sum()/len(test_labels)"
   ]
  },
  {
   "cell_type": "code",
   "execution_count": null,
   "metadata": {
    "collapsed": false,
    "deletable": true,
    "editable": true
   },
   "outputs": [],
   "source": [
    "err"
   ]
  },
  {
   "cell_type": "code",
   "execution_count": null,
   "metadata": {
    "collapsed": true,
    "deletable": true,
    "editable": true
   },
   "outputs": [],
   "source": [
    "cnn_proba_val = model_cnn.predict_proba(cnn_val)[:,:-1]\n",
    "cnn_proba_test = model_cnn.predict_proba(cnn_test)[:,:-1]"
   ]
  },
  {
   "cell_type": "markdown",
   "metadata": {
    "deletable": true,
    "editable": true
   },
   "source": [
    "## LR"
   ]
  },
  {
   "cell_type": "code",
   "execution_count": null,
   "metadata": {
    "collapsed": false,
    "deletable": true,
    "editable": true
   },
   "outputs": [],
   "source": [
    "l = 6\n",
    "color = False\n",
    "train_reduc, val_reduc, test_reduc = load.load_all_data(train_ids, val_ids, test_ids, l, color)"
   ]
  },
  {
   "cell_type": "code",
   "execution_count": null,
   "metadata": {
    "collapsed": false,
    "deletable": true,
    "editable": true
   },
   "outputs": [],
   "source": [
    "model_lr = sklearn.linear_model.LogisticRegression(penalty='l2', C=1e10, class_weight=class_weight)\n",
    "model_lr.fit(train_reduc, train_labels)\n",
    "predictions = model_lr.predict(val_reduc)\n",
    "error = (val_labels!=predictions).sum()/len(val_labels)\n",
    "error"
   ]
  },
  {
   "cell_type": "code",
   "execution_count": null,
   "metadata": {
    "collapsed": true,
    "deletable": true,
    "editable": true
   },
   "outputs": [],
   "source": [
    "reduc_proba_val = model_lr.predict_proba(val_reduc)[:,:-1]\n",
    "reduc_proba_test = model_lr.predict_proba(test_reduc)[:,:-1]"
   ]
  },
  {
   "cell_type": "code",
   "execution_count": null,
   "metadata": {
    "collapsed": false,
    "deletable": true,
    "editable": true
   },
   "outputs": [],
   "source": [
    "val_mix = np.concatenate([cnn_proba_val, reduc_proba_val], axis=1)\n",
    "test_mix = np.concatenate([cnn_proba_test, reduc_proba_test], axis=1)"
   ]
  },
  {
   "cell_type": "code",
   "execution_count": null,
   "metadata": {
    "collapsed": false,
    "deletable": true,
    "editable": true
   },
   "outputs": [],
   "source": [
    "model_ensemble = sklearn.linear_model.LogisticRegression(penalty='l2', C=1e10, class_weight=class_weight)\n",
    "model_ensemble.fit(val_mix, val_labels)\n",
    "predictions = model_ensemble.predict(test_mix)\n",
    "error = (test_labels!=predictions).sum()/len(test_labels)\n",
    "error"
   ]
  },
  {
   "cell_type": "code",
   "execution_count": null,
   "metadata": {
    "collapsed": true,
    "deletable": true,
    "editable": true
   },
   "outputs": [],
   "source": [
    "probas = model_ensemble.predict_proba(test_mix)"
   ]
  },
  {
   "cell_type": "markdown",
   "metadata": {
    "deletable": true,
    "editable": true
   },
   "source": [
    "## Confusion matrix"
   ]
  },
  {
   "cell_type": "code",
   "execution_count": null,
   "metadata": {
    "collapsed": false,
    "deletable": true,
    "editable": true
   },
   "outputs": [],
   "source": [
    "sklearn.metrics.confusion_matrix(test_labels, predictions)"
   ]
  },
  {
   "cell_type": "markdown",
   "metadata": {
    "deletable": true,
    "editable": true
   },
   "source": [
    "## Confidence"
   ]
  },
  {
   "cell_type": "code",
   "execution_count": null,
   "metadata": {
    "collapsed": true,
    "deletable": true,
    "editable": true
   },
   "outputs": [],
   "source": [
    "confidence = np.max(probas, axis=1)"
   ]
  },
  {
   "cell_type": "code",
   "execution_count": null,
   "metadata": {
    "collapsed": false,
    "deletable": true,
    "editable": true
   },
   "outputs": [],
   "source": [
    "plt.hist(confidence, bins=100)"
   ]
  },
  {
   "cell_type": "code",
   "execution_count": null,
   "metadata": {
    "collapsed": false,
    "deletable": true,
    "editable": true
   },
   "outputs": [],
   "source": [
    "N = len(confidence)\n",
    "confidence_order = np.argsort(-confidence)\n",
    "sorted_error = (predictions[confidence_order]!=test_labels[confidence_order])\n",
    "nb_errors = np.cumsum(sorted_error)\n",
    "error_rate = nb_errors/np.arange(N)"
   ]
  },
  {
   "cell_type": "code",
   "execution_count": null,
   "metadata": {
    "collapsed": false,
    "deletable": true,
    "editable": true
   },
   "outputs": [],
   "source": [
    "plt.plot(np.arange(N)/N, error_rate)\n",
    "plt.xlabel('% classified')\n",
    "plt.ylabel('% error')"
   ]
  },
  {
   "cell_type": "code",
   "execution_count": null,
   "metadata": {
    "collapsed": true,
    "deletable": true,
    "editable": true
   },
   "outputs": [],
   "source": [
    "def custom_convolution(a, kernel):\n",
    "    n = len(a)\n",
    "    k = int((len(kernel)-1)/2)\n",
    "    \n",
    "    conv = np.zeros(n)\n",
    "    for i in range(n):\n",
    "        imin_kernel = max(0, k-i)\n",
    "        imax_kernel = min(2*k+1, k+n-i)\n",
    "        imin_a = max(0, i-k)\n",
    "        imax_a = min(n, k+1+i)\n",
    "        conv[i] = (a[imin_a:imax_a]*kernel[imin_kernel:imax_kernel]).sum() / (kernel[imin_kernel:imax_kernel].sum())\n",
    "    \n",
    "    return conv"
   ]
  },
  {
   "cell_type": "code",
   "execution_count": null,
   "metadata": {
    "collapsed": false,
    "deletable": true,
    "editable": true
   },
   "outputs": [],
   "source": [
    "sigma = 40.\n",
    "kernel_size = int(math.floor(3.5*sigma))\n",
    "kernel = np.exp(-np.power(np.arange(2*kernel_size+1)-kernel_size, 2.)/(2*np.power(sigma, 2.)))\n",
    "kernel /= kernel.sum()\n",
    "\n",
    "smooth_error = custom_convolution(sorted_error, kernel)\n",
    "plt.figure()\n",
    "plt.plot(smooth_error)\n",
    "plt.xlabel('confidence rank')\n",
    "plt.ylabel('% error')"
   ]
  },
  {
   "cell_type": "markdown",
   "metadata": {
    "collapsed": true,
    "deletable": true,
    "editable": true
   },
   "source": [
    "## Save model"
   ]
  },
  {
   "cell_type": "code",
   "execution_count": null,
   "metadata": {
    "collapsed": false,
    "deletable": true,
    "editable": true
   },
   "outputs": [],
   "source": [
    "import pickle\n",
    "pickle.dump((model_cnn, model_lr, model_ensemble), open('models.pkl', 'wb'))"
   ]
  },
  {
   "cell_type": "code",
   "execution_count": null,
   "metadata": {
    "collapsed": true,
    "deletable": true,
    "editable": true
   },
   "outputs": [],
   "source": []
  }
 ],
 "metadata": {
  "kernelspec": {
   "display_name": "Python 3",
   "language": "python",
   "name": "python3"
  },
  "language_info": {
   "codemirror_mode": {
    "name": "ipython",
    "version": 3
   },
   "file_extension": ".py",
   "mimetype": "text/x-python",
   "name": "python",
   "nbconvert_exporter": "python",
   "pygments_lexer": "ipython3",
   "version": "3.5.2"
  }
 },
 "nbformat": 4,
 "nbformat_minor": 0
}
