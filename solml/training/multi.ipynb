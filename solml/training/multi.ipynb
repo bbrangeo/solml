{
 "cells": [
  {
   "cell_type": "code",
   "execution_count": 26,
   "metadata": {
    "collapsed": false,
    "deletable": true,
    "editable": true
   },
   "outputs": [],
   "source": [
    "import math\n",
    "import time\n",
    "import configparser\n",
    "\n",
    "import numpy as np\n",
    "import sklearn.linear_model\n",
    "import sklearn.metrics\n",
    "from matplotlib import pyplot as plt\n",
    "\n",
    "from solml import load, cnn\n",
    "import split\n",
    "import get_info\n",
    "\n",
    "%matplotlib inline"
   ]
  },
  {
   "cell_type": "code",
   "execution_count": 27,
   "metadata": {
    "collapsed": false
   },
   "outputs": [],
   "source": [
    "config = configparser.ConfigParser()\n",
    "config.read('../config.ini')\n",
    "models_filename = config['main']['models']"
   ]
  },
  {
   "cell_type": "code",
   "execution_count": 2,
   "metadata": {
    "collapsed": true,
    "deletable": true,
    "editable": true
   },
   "outputs": [],
   "source": [
    "train_ids, val_ids, test_ids, train_labels, val_labels, test_labels = split.get_sets()"
   ]
  },
  {
   "cell_type": "code",
   "execution_count": 3,
   "metadata": {
    "collapsed": false,
    "deletable": true,
    "editable": true
   },
   "outputs": [],
   "source": [
    "bounding_boxes = get_info.get_bounding_box(train_ids)\n",
    "cnn_train = cnn.get_cnn_features_list(train_ids, bounding_boxes)\n",
    "bounding_boxes = get_info.get_bounding_box(val_ids)\n",
    "cnn_val = cnn.get_cnn_features_list(val_ids, bounding_boxes)\n",
    "bounding_boxes = get_info.get_bounding_box(test_ids)\n",
    "cnn_test = cnn.get_cnn_features_list(test_ids, bounding_boxes)"
   ]
  },
  {
   "cell_type": "code",
   "execution_count": 4,
   "metadata": {
    "collapsed": true,
    "deletable": true,
    "editable": true
   },
   "outputs": [],
   "source": [
    "class_weight=None # or 'balanced'"
   ]
  },
  {
   "cell_type": "markdown",
   "metadata": {
    "deletable": true,
    "editable": true
   },
   "source": [
    "## CNN"
   ]
  },
  {
   "cell_type": "code",
   "execution_count": 5,
   "metadata": {
    "collapsed": false,
    "deletable": true,
    "editable": true
   },
   "outputs": [
    {
     "name": "stdout",
     "output_type": "stream",
     "text": [
      "LR took 0.659360 seconds.\n",
      "LR took 0.865151 seconds.\n",
      "LR took 1.271335 seconds.\n",
      "LR took 1.739219 seconds.\n",
      "LR took 2.997964 seconds.\n",
      "LR took 5.926404 seconds.\n",
      "LR took 12.970935 seconds.\n",
      "LR took 27.505175 seconds.\n",
      "LR took 47.353257 seconds.\n",
      "LR took 49.265185 seconds.\n",
      "LR took 48.598923 seconds.\n",
      "LR took 52.948556 seconds.\n",
      "LR took 54.130324 seconds.\n",
      "LR took 56.623516 seconds.\n",
      "LR took 52.040903 seconds.\n",
      "LR took 52.512075 seconds.\n",
      "LR took 51.838083 seconds.\n",
      "LR took 51.937793 seconds.\n",
      "LR took 52.283647 seconds.\n",
      "LR took 52.188627 seconds.\n"
     ]
    }
   ],
   "source": [
    "n_C = 20\n",
    "C_list = np.logspace(-10, 10, n_C)\n",
    "errors = np.zeros(n_C)\n",
    "for i, C in enumerate(C_list):\n",
    "    model = sklearn.linear_model.LogisticRegression(penalty='l2', C=C, class_weight=class_weight)\n",
    "    t = time.time()\n",
    "    model.fit(cnn_train, train_labels)\n",
    "    print(\"LR took %f seconds.\"%(time.time()-t))\n",
    "    predictions = model.predict(cnn_val)\n",
    "    errors[i] = (val_labels!=predictions).sum()/len(val_labels)"
   ]
  },
  {
   "cell_type": "code",
   "execution_count": 6,
   "metadata": {
    "collapsed": false,
    "deletable": true,
    "editable": true
   },
   "outputs": [
    {
     "data": {
      "image/png": "[encoded data removed]",
      "text/plain": [
       "<matplotlib.figure.Figure at 0x7fe24065bac8>"
      ]
     },
     "metadata": {},
     "output_type": "display_data"
    }
   ],
   "source": [
    "plt.plot(C_list, errors)\n",
    "plt.xscale('log')"
   ]
  },
  {
   "cell_type": "code",
   "execution_count": 7,
   "metadata": {
    "collapsed": false,
    "deletable": true,
    "editable": true
   },
   "outputs": [
    {
     "name": "stdout",
     "output_type": "stream",
     "text": [
      "optimal C : 0.000018\n",
      "LR took 6.380751 seconds.\n"
     ]
    }
   ],
   "source": [
    "#i_opt = np.argmin(errors)\n",
    "C_opt = 0.000018#C_list[i_opt]\n",
    "print('optimal C : %f'%C_opt)\n",
    "model_cnn = sklearn.linear_model.LogisticRegression(penalty='l2', C=C_opt, class_weight=class_weight)\n",
    "t = time.time()\n",
    "model_cnn.fit(cnn_train, train_labels)\n",
    "print(\"LR took %f seconds.\"%(time.time()-t))\n",
    "predictions = model_cnn.predict(cnn_test)\n",
    "err = (test_labels!=predictions).sum()/len(test_labels)"
   ]
  },
  {
   "cell_type": "code",
   "execution_count": 8,
   "metadata": {
    "collapsed": false,
    "deletable": true,
    "editable": true
   },
   "outputs": [
    {
     "data": {
      "text/plain": [
       "0.24958333333333332"
      ]
     },
     "execution_count": 8,
     "metadata": {},
     "output_type": "execute_result"
    }
   ],
   "source": [
    "err"
   ]
  },
  {
   "cell_type": "code",
   "execution_count": 9,
   "metadata": {
    "collapsed": true,
    "deletable": true,
    "editable": true
   },
   "outputs": [],
   "source": [
    "cnn_proba_val = model_cnn.predict_proba(cnn_val)[:,:-1]\n",
    "cnn_proba_test = model_cnn.predict_proba(cnn_test)[:,:-1]"
   ]
  },
  {
   "cell_type": "markdown",
   "metadata": {
    "deletable": true,
    "editable": true
   },
   "source": [
    "## LR"
   ]
  },
  {
   "cell_type": "code",
   "execution_count": 12,
   "metadata": {
    "collapsed": false,
    "deletable": true,
    "editable": true
   },
   "outputs": [],
   "source": [
    "l = 6\n",
    "color = False\n",
    "train_reduc, val_reduc, test_reduc = split.load_images(train_ids, val_ids, test_ids, l, color)"
   ]
  },
  {
   "cell_type": "code",
   "execution_count": 13,
   "metadata": {
    "collapsed": false,
    "deletable": true,
    "editable": true
   },
   "outputs": [
    {
     "data": {
      "text/plain": [
       "0.43137254901960786"
      ]
     },
     "execution_count": 13,
     "metadata": {},
     "output_type": "execute_result"
    }
   ],
   "source": [
    "model_lr = sklearn.linear_model.LogisticRegression(penalty='l2', C=1e10, class_weight=class_weight)\n",
    "model_lr.fit(train_reduc, train_labels)\n",
    "predictions = model_lr.predict(val_reduc)\n",
    "error = (val_labels!=predictions).sum()/len(val_labels)\n",
    "error"
   ]
  },
  {
   "cell_type": "code",
   "execution_count": 14,
   "metadata": {
    "collapsed": true,
    "deletable": true,
    "editable": true
   },
   "outputs": [],
   "source": [
    "reduc_proba_val = model_lr.predict_proba(val_reduc)[:,:-1]\n",
    "reduc_proba_test = model_lr.predict_proba(test_reduc)[:,:-1]"
   ]
  },
  {
   "cell_type": "code",
   "execution_count": 15,
   "metadata": {
    "collapsed": false,
    "deletable": true,
    "editable": true
   },
   "outputs": [],
   "source": [
    "val_mix = np.concatenate([cnn_proba_val, reduc_proba_val], axis=1)\n",
    "test_mix = np.concatenate([cnn_proba_test, reduc_proba_test], axis=1)"
   ]
  },
  {
   "cell_type": "code",
   "execution_count": 16,
   "metadata": {
    "collapsed": false,
    "deletable": true,
    "editable": true
   },
   "outputs": [
    {
     "data": {
      "text/plain": [
       "0.23958333333333334"
      ]
     },
     "execution_count": 16,
     "metadata": {},
     "output_type": "execute_result"
    }
   ],
   "source": [
    "model_ensemble = sklearn.linear_model.LogisticRegression(penalty='l2', C=1e10, class_weight=class_weight)\n",
    "model_ensemble.fit(val_mix, val_labels)\n",
    "predictions = model_ensemble.predict(test_mix)\n",
    "error = (test_labels!=predictions).sum()/len(test_labels)\n",
    "error"
   ]
  },
  {
   "cell_type": "code",
   "execution_count": 17,
   "metadata": {
    "collapsed": true,
    "deletable": true,
    "editable": true
   },
   "outputs": [],
   "source": [
    "probas = model_ensemble.predict_proba(test_mix)"
   ]
  },
  {
   "cell_type": "markdown",
   "metadata": {
    "deletable": true,
    "editable": true
   },
   "source": [
    "## Confusion matrix"
   ]
  },
  {
   "cell_type": "code",
   "execution_count": 18,
   "metadata": {
    "collapsed": false,
    "deletable": true,
    "editable": true
   },
   "outputs": [
    {
     "data": {
      "text/plain": [
       "array([[922,  18,  16,  84],\n",
       "       [ 44, 399,  11,  77],\n",
       "       [ 31,  31, 166,  34],\n",
       "       [134,  74,  21, 338]])"
      ]
     },
     "execution_count": 18,
     "metadata": {},
     "output_type": "execute_result"
    }
   ],
   "source": [
    "sklearn.metrics.confusion_matrix(test_labels, predictions)"
   ]
  },
  {
   "cell_type": "markdown",
   "metadata": {
    "deletable": true,
    "editable": true
   },
   "source": [
    "## Confidence"
   ]
  },
  {
   "cell_type": "code",
   "execution_count": 19,
   "metadata": {
    "collapsed": true,
    "deletable": true,
    "editable": true
   },
   "outputs": [],
   "source": [
    "confidence = np.max(probas, axis=1)"
   ]
  },
  {
   "cell_type": "code",
   "execution_count": 20,
   "metadata": {
    "collapsed": false,
    "deletable": true,
    "editable": true
   },
   "outputs": [
    {
     "data": {
      "text/plain": [
       "(array([  1.,   1.,   1.,   1.,   1.,   2.,   1.,   6.,  10.,   6.,   7.,\n",
       "          9.,  15.,   8.,   7.,  11.,   5.,  10.,  12.,  15.,   9.,  13.,\n",
       "         20.,  15.,  17.,  15.,  30.,  17.,  20.,  15.,  13.,  23.,  17.,\n",
       "         16.,  18.,  19.,  23.,  17.,  25.,  15.,  27.,  23.,  22.,  16.,\n",
       "         23.,  18.,  15.,  20.,  26.,  18.,  18.,  25.,  19.,  20.,  22.,\n",
       "         12.,  12.,  21.,  21.,  20.,  20.,  25.,  28.,  18.,  25.,  28.,\n",
       "         30.,  19.,  25.,  26.,  27.,  27.,  35.,  26.,  28.,  34.,  32.,\n",
       "         31.,  36.,  31.,  37.,  34.,  31.,  20.,  42.,  43.,  49.,  48.,\n",
       "         44.,  47.,  48.,  64.,  63.,  66.,  70.,  68.,  58.,  63.,  44.,\n",
       "         26.]),\n",
       " array([ 0.29406663,  0.30071797,  0.30736931,  0.31402065,  0.32067199,\n",
       "         0.32732333,  0.33397468,  0.34062602,  0.34727736,  0.3539287 ,\n",
       "         0.36058004,  0.36723138,  0.37388272,  0.38053406,  0.3871854 ,\n",
       "         0.39383675,  0.40048809,  0.40713943,  0.41379077,  0.42044211,\n",
       "         0.42709345,  0.43374479,  0.44039613,  0.44704747,  0.45369882,\n",
       "         0.46035016,  0.4670015 ,  0.47365284,  0.48030418,  0.48695552,\n",
       "         0.49360686,  0.5002582 ,  0.50690954,  0.51356089,  0.52021223,\n",
       "         0.52686357,  0.53351491,  0.54016625,  0.54681759,  0.55346893,\n",
       "         0.56012027,  0.56677161,  0.57342296,  0.5800743 ,  0.58672564,\n",
       "         0.59337698,  0.60002832,  0.60667966,  0.613331  ,  0.61998234,\n",
       "         0.62663368,  0.63328503,  0.63993637,  0.64658771,  0.65323905,\n",
       "         0.65989039,  0.66654173,  0.67319307,  0.67984441,  0.68649576,\n",
       "         0.6931471 ,  0.69979844,  0.70644978,  0.71310112,  0.71975246,\n",
       "         0.7264038 ,  0.73305514,  0.73970648,  0.74635783,  0.75300917,\n",
       "         0.75966051,  0.76631185,  0.77296319,  0.77961453,  0.78626587,\n",
       "         0.79291721,  0.79956855,  0.8062199 ,  0.81287124,  0.81952258,\n",
       "         0.82617392,  0.83282526,  0.8394766 ,  0.84612794,  0.85277928,\n",
       "         0.85943062,  0.86608197,  0.87273331,  0.87938465,  0.88603599,\n",
       "         0.89268733,  0.89933867,  0.90599001,  0.91264135,  0.91929269,\n",
       "         0.92594404,  0.93259538,  0.93924672,  0.94589806,  0.9525494 ,\n",
       "         0.95920074]),\n",
       " <a list of 100 Patch objects>)"
      ]
     },
     "execution_count": 20,
     "metadata": {},
     "output_type": "execute_result"
    },
    {
     "data": {
      "image/png": "[encoded data removed]",
      "text/plain": [
       "<matplotlib.figure.Figure at 0x7fe23829b4e0>"
      ]
     },
     "metadata": {},
     "output_type": "display_data"
    }
   ],
   "source": [
    "plt.hist(confidence, bins=100)"
   ]
  },
  {
   "cell_type": "code",
   "execution_count": 21,
   "metadata": {
    "collapsed": false,
    "deletable": true,
    "editable": true
   },
   "outputs": [
    {
     "name": "stderr",
     "output_type": "stream",
     "text": [
      "/home/michel/.virtualenvs/solar/lib/python3.5/site-packages/ipykernel/__main__.py:5: RuntimeWarning: invalid value encountered in true_divide\n"
     ]
    }
   ],
   "source": [
    "N = len(confidence)\n",
    "confidence_order = np.argsort(-confidence)\n",
    "sorted_error = (predictions[confidence_order]!=test_labels[confidence_order])\n",
    "nb_errors = np.cumsum(sorted_error)\n",
    "error_rate = nb_errors/np.arange(N)"
   ]
  },
  {
   "cell_type": "code",
   "execution_count": 22,
   "metadata": {
    "collapsed": false,
    "deletable": true,
    "editable": true
   },
   "outputs": [
    {
     "data": {
      "text/plain": [
       "<matplotlib.text.Text at 0x7fe230502908>"
      ]
     },
     "execution_count": 22,
     "metadata": {},
     "output_type": "execute_result"
    },
    {
     "data": {
      "image/png": "[encoded data removed]",
      "text/plain": [
       "<matplotlib.figure.Figure at 0x7fe23067ffd0>"
      ]
     },
     "metadata": {},
     "output_type": "display_data"
    }
   ],
   "source": [
    "plt.plot(np.arange(N)/N, error_rate)\n",
    "plt.xlabel('% classified')\n",
    "plt.ylabel('% error')"
   ]
  },
  {
   "cell_type": "code",
   "execution_count": 23,
   "metadata": {
    "collapsed": true,
    "deletable": true,
    "editable": true
   },
   "outputs": [],
   "source": [
    "def custom_convolution(a, kernel):\n",
    "    n = len(a)\n",
    "    k = int((len(kernel)-1)/2)\n",
    "    \n",
    "    conv = np.zeros(n)\n",
    "    for i in range(n):\n",
    "        imin_kernel = max(0, k-i)\n",
    "        imax_kernel = min(2*k+1, k+n-i)\n",
    "        imin_a = max(0, i-k)\n",
    "        imax_a = min(n, k+1+i)\n",
    "        conv[i] = (a[imin_a:imax_a]*kernel[imin_kernel:imax_kernel]).sum() / (kernel[imin_kernel:imax_kernel].sum())\n",
    "    \n",
    "    return conv"
   ]
  },
  {
   "cell_type": "code",
   "execution_count": 24,
   "metadata": {
    "collapsed": false,
    "deletable": true,
    "editable": true
   },
   "outputs": [
    {
     "data": {
      "text/plain": [
       "<matplotlib.text.Text at 0x7fe2304e2e80>"
      ]
     },
     "execution_count": 24,
     "metadata": {},
     "output_type": "execute_result"
    },
    {
     "data": {
      "image/png": "[encoded data removed]",
      "text/plain": [
       "<matplotlib.figure.Figure at 0x7fe2306e6eb8>"
      ]
     },
     "metadata": {},
     "output_type": "display_data"
    }
   ],
   "source": [
    "sigma = 40.\n",
    "kernel_size = int(math.floor(3.5*sigma))\n",
    "kernel = np.exp(-np.power(np.arange(2*kernel_size+1)-kernel_size, 2.)/(2*np.power(sigma, 2.)))\n",
    "kernel /= kernel.sum()\n",
    "\n",
    "smooth_error = custom_convolution(sorted_error, kernel)\n",
    "plt.figure()\n",
    "plt.plot(smooth_error)\n",
    "plt.xlabel('confidence rank')\n",
    "plt.ylabel('% error')"
   ]
  },
  {
   "cell_type": "markdown",
   "metadata": {
    "collapsed": true,
    "deletable": true,
    "editable": true
   },
   "source": [
    "## Save model"
   ]
  },
  {
   "cell_type": "code",
   "execution_count": 28,
   "metadata": {
    "collapsed": false,
    "deletable": true,
    "editable": true
   },
   "outputs": [],
   "source": [
    "import pickle\n",
    "pickle.dump((model_cnn, model_lr, model_ensemble), open(models_filename, 'wb'))"
   ]
  },
  {
   "cell_type": "code",
   "execution_count": null,
   "metadata": {
    "collapsed": true,
    "deletable": true,
    "editable": true
   },
   "outputs": [],
   "source": []
  }
 ],
 "metadata": {
  "kernelspec": {
   "display_name": "Python 3",
   "language": "python",
   "name": "python3"
  },
  "language_info": {
   "codemirror_mode": {
    "name": "ipython",
    "version": 3
   },
   "file_extension": ".py",
   "mimetype": "text/x-python",
   "name": "python",
   "nbconvert_exporter": "python",
   "pygments_lexer": "ipython3",
   "version": "3.5.2"
  }
 },
 "nbformat": 4,
 "nbformat_minor": 0
}
