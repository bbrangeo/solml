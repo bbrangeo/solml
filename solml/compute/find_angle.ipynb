{
 "cells": [
  {
   "cell_type": "code",
   "execution_count": 55,
   "metadata": {
    "collapsed": true
   },
   "outputs": [],
   "source": [
    "import psycopg2\n",
    "import postgis\n",
    "import math\n",
    "import numpy as np\n",
    "from matplotlib import pyplot as plt\n",
    "\n",
    "%matplotlib inline"
   ]
  },
  {
   "cell_type": "code",
   "execution_count": 2,
   "metadata": {
    "collapsed": true
   },
   "outputs": [],
   "source": [
    "database = 'solar'\n",
    "database_user = 'solar'\n",
    "database_password = 'baba'"
   ]
  },
  {
   "cell_type": "code",
   "execution_count": 3,
   "metadata": {},
   "outputs": [],
   "source": [
    "connection = psycopg2.connect(dbname=database, user=database_user, password=database_password)\n",
    "cursor = connection.cursor()\n",
    "postgis.register(cursor)\n",
    "\n",
    "cursor.execute(\"\"\"\n",
    "    select id_osm, commune, geom, merc, area, convex_hull_carto\n",
    "    from buildings\n",
    "    where id_osm=82089709\n",
    "    ;\n",
    "    \"\"\")\n",
    "\n",
    "data = cursor.fetchall()\n",
    "\n",
    "cursor.close()\n",
    "connection.close()\n"
   ]
  },
  {
   "cell_type": "code",
   "execution_count": 4,
   "metadata": {
    "collapsed": true
   },
   "outputs": [],
   "source": [
    "example = data[0]"
   ]
  },
  {
   "cell_type": "code",
   "execution_count": 5,
   "metadata": {},
   "outputs": [],
   "source": [
    "id_osm, commune, geom, merc, area, convex_hull_carto = example"
   ]
  },
  {
   "cell_type": "code",
   "execution_count": 6,
   "metadata": {},
   "outputs": [
    {
     "data": {
      "text/plain": [
       "82089709"
      ]
     },
     "execution_count": 6,
     "metadata": {},
     "output_type": "execute_result"
    }
   ],
   "source": [
    "id_osm"
   ]
  },
  {
   "cell_type": "code",
   "execution_count": 7,
   "metadata": {},
   "outputs": [
    {
     "data": {
      "text/plain": [
       "<Polygon POLYGON((-3.85574077766025 48.530503686336, -3.85571292988645 48.5305157624684, -3.85573781321982 48.5305416993737, -3.85562471532554 48.5305903607793, -3.85547918824952 48.5304405691635, -3.85553838722674 48.5304142752758, -3.85563064420642 48.5305073151249, -3.85571077392976 48.5304728713644, -3.85574077766025 48.530503686336))>"
      ]
     },
     "execution_count": 7,
     "metadata": {},
     "output_type": "execute_result"
    }
   ],
   "source": [
    "geom"
   ]
  },
  {
   "cell_type": "code",
   "execution_count": 10,
   "metadata": {},
   "outputs": [],
   "source": []
  },
  {
   "cell_type": "code",
   "execution_count": 81,
   "metadata": {
    "collapsed": true
   },
   "outputs": [],
   "source": [
    "rotation_90_degrees = np.array([[0, 1], [-1, 0]])\n",
    "\n",
    "def get_angle_ratio(convex_hull_carto):\n",
    "    assert convex_hull_carto.geojson['type'] == 'Polygon'\n",
    "    assert len(convex_hull_carto.geojson['coordinates']) == 1\n",
    "    \n",
    "    points = np.array(convex_hull_carto.geojson['coordinates'][0])\n",
    "    delta = points[1:] - points[:-1]\n",
    "    distance = np.sqrt(np.power(delta[:,0:1], 2) + np.power(delta[:,1:2], 2))\n",
    "    tangent = delta/distance\n",
    "    normal = np.dot(tangent, rotation_90_degrees)\n",
    "    proj_tangent = np.dot(points, tangent.T)\n",
    "    proj_normal = np.dot(points, normal.T)\n",
    "    \n",
    "    tangent_min = proj_tangent.min(0)\n",
    "    tangent_max = proj_tangent.max(0)\n",
    "    normal_min = proj_normal.min(0)\n",
    "    normal_max = proj_normal.max(0)\n",
    "    \n",
    "    length_tangent = tangent_max - tangent_min\n",
    "    length_normal = normal_max - normal_min\n",
    "    surface = length_tangent * length_normal\n",
    "    \n",
    "    i_orientation = surface.argmin()\n",
    "\n",
    "    #t_min = tangent_min[i_orientation]\n",
    "    #t_max = tangent_max[i_orientation]\n",
    "    #n_min = normal_min[i_orientation]\n",
    "    #n_max = normal_max[i_orientation]\n",
    "    #rectangle_local = np.array([[t_min, n_min], [t_min, n_max], [t_max, n_min], [t_max, n_max]])\n",
    "    #rotation_inverse = np.array([tangent[i_orientation], normal[i_orientation]])\n",
    "    #rectangle = np.dot(rectangle_local, rotation_inverse)\n",
    "\n",
    "    a, b = tangent[i_orientation]\n",
    "    angle = math.acos(a)\n",
    "    if b<0:\n",
    "        angle *= -1\n",
    "    angle += 2*math.pi\n",
    "    while angle > math.pi/4.:\n",
    "        angle -= math.pi/2.\n",
    "    #angle_degrees = angle * 180. / math.pi\n",
    "    #angle_degrees\n",
    "    \n",
    "    return angle"
   ]
  },
  {
   "cell_type": "code",
   "execution_count": 83,
   "metadata": {},
   "outputs": [
    {
     "data": {
      "text/plain": [
       "0.571698693309246"
      ]
     },
     "execution_count": 83,
     "metadata": {},
     "output_type": "execute_result"
    }
   ],
   "source": [
    "get_angle_ratio(convex_hull_carto)"
   ]
  },
  {
   "cell_type": "code",
   "execution_count": 47,
   "metadata": {},
   "outputs": [
    {
     "data": {
      "text/plain": [
       "(-429223.57097747928,\n",
       " -429188.04930273962,\n",
       " 6195547.2443210306,\n",
       " 6195586.8486516913)"
      ]
     },
     "execution_count": 47,
     "metadata": {},
     "output_type": "execute_result"
    },
    {
     "data": {
      "image/png": "[encoded data removed]",
      "text/plain": [
       "<matplotlib.figure.Figure at 0x7feb05f7d518>"
      ]
     },
     "metadata": {},
     "output_type": "display_data"
    }
   ],
   "source": [
    "plt.scatter(rectangle[:,0], rectangle[:,1])\n",
    "plt.scatter(points[:,0], points[:,1])\n",
    "plt.axis('equal')"
   ]
  },
  {
   "cell_type": "code",
   "execution_count": 53,
   "metadata": {},
   "outputs": [
    {
     "data": {
      "text/plain": [
       "(-429221.94739532674,\n",
       " -429189.89800180378,\n",
       " 6195549.0583147882,\n",
       " 6195584.5100000007)"
      ]
     },
     "execution_count": 53,
     "metadata": {},
     "output_type": "execute_result"
    }
   ],
   "source": [
    "\n",
    "x_min, x_max, y_min, y_max"
   ]
  },
  {
   "cell_type": "code",
   "execution_count": 65,
   "metadata": {},
   "outputs": [
    {
     "data": {
      "text/plain": [
       "32.75592227976383"
      ]
     },
     "execution_count": 65,
     "metadata": {},
     "output_type": "execute_result"
    }
   ],
   "source": []
  },
  {
   "cell_type": "code",
   "execution_count": null,
   "metadata": {
    "collapsed": true
   },
   "outputs": [],
   "source": []
  }
 ],
 "metadata": {
  "kernelspec": {
   "display_name": "Python 3",
   "language": "python",
   "name": "python3"
  },
  "language_info": {
   "codemirror_mode": {
    "name": "ipython",
    "version": 3
   },
   "file_extension": ".py",
   "mimetype": "text/x-python",
   "name": "python",
   "nbconvert_exporter": "python",
   "pygments_lexer": "ipython3",
   "version": "3.4.2"
  }
 },
 "nbformat": 4,
 "nbformat_minor": 2
}
